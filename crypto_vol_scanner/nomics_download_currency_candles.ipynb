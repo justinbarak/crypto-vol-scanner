{
 "cells": [
  {
   "cell_type": "code",
   "execution_count": 3,
   "metadata": {},
   "outputs": [
    {
     "data": {
      "application/vnd.jupyter.widget-view+json": {
       "model_id": "78f4ecea9cdc4c25a8470689fbf122da",
       "version_major": 2,
       "version_minor": 0
      },
      "text/plain": [
       "Downloading candles:   0%|          | 0/38987 [00:00<?, ?it/s]"
      ]
     },
     "metadata": {},
     "output_type": "display_data"
    },
    {
     "name": "stdout",
     "output_type": "stream",
     "text": [
      "\n",
      "Completed downloading candles...\n"
     ]
    }
   ],
   "source": [
    "from dotenv import load_dotenv\n",
    "import os\n",
    "import nomics\n",
    "from pprint import pprint as pp\n",
    "import json\n",
    "from time import sleep\n",
    "import pandas as pd\n",
    "import requests\n",
    "import io\n",
    "from collections import OrderedDict\n",
    "from copy import deepcopy\n",
    "from tqdm.notebook import tqdm_notebook as progress_bar\n",
    "from pathlib import Path\n",
    "from pathvalidate import is_valid_filename\n",
    "\n",
    "# initialize the environment\n",
    "load_dotenv()\n",
    "API_KEY=os.getenv(\"API_KEY\")\n",
    "\n",
    "nom = nomics.Nomics(API_KEY)\n",
    "\n",
    "# get the list of currencies\n",
    "currency_data_df = pd.read_pickle('..\\\\downloaded_data\\\\nomics\\\\crypto_data.pkl')\n",
    "\n",
    "desired_blockchains = [\"ETH\", \"BNB\", \"NEO\", \"TRX\", \"HT\", \"MATIC\", \"FTM\", \"SOL\", \"AVAX\"]\n",
    "\n",
    "currency_list = []\n",
    "for currency_index in range(len(currency_data_df['currency_id'].to_list())):\n",
    "    currency = currency_data_df.iloc[currency_index]\n",
    "    if currency['platform_currency'] in desired_blockchains:\n",
    "        # avoid getting impossible to save file names\n",
    "        if is_valid_filename(f\"{currency['currency_id']}.pkl\"):\n",
    "            currency_list.append(currency['currency_id'])\n",
    "\n",
    "response = {}\n",
    "\n",
    "# get list of already downloaded and pickled currencies\n",
    "already_downloaded_currencies = []\n",
    "# already_downloaded_currencies = [x.stem for x in Path('..\\\\downloaded_data\\\\nomics\\\\candles').glob('*.pkl')]\n",
    "\n",
    "# get daily candles for each currency\n",
    "for currency in progress_bar(currency_list, desc='Downloading candles'):\n",
    "    if currency not in already_downloaded_currencies:\n",
    "        response = nom.Candles.get_candles(interval='1d', currency=currency)\n",
    "        df = pd.json_normalize(response)\n",
    "        df.fillna(0, inplace=True)\n",
    "        # add types\n",
    "        headers = df.columns.to_list()\n",
    "        for column in headers:\n",
    "            if column == 'timestamp':\n",
    "                df[column] = pd.to_datetime(df[column], infer_datetime_format=True)\n",
    "            else:\n",
    "                df[column] = df[column].astype(float)\n",
    "        # pickle the data\n",
    "        save_path = Path('..\\\\downloaded_data\\\\nomics\\\\candles\\\\' + currency + '.pkl').resolve()\n",
    "        df.to_pickle(save_path)\n",
    "\n",
    "print(\"\\nCompleted downloading candles...\")"
   ]
  },
  {
   "cell_type": "code",
   "execution_count": null,
   "metadata": {},
   "outputs": [],
   "source": [
    "df.head()"
   ]
  },
  {
   "cell_type": "code",
   "execution_count": 2,
   "metadata": {},
   "outputs": [],
   "source": [
    "import pandas as pd\n",
    "adf = pd.read_pickle('..\\\\downloaded_data\\\\nomics\\\\crypto_data.pkl')"
   ]
  },
  {
   "cell_type": "code",
   "execution_count": 9,
   "metadata": {},
   "outputs": [
    {
     "data": {
      "text/html": [
       "<div>\n",
       "<style scoped>\n",
       "    .dataframe tbody tr th:only-of-type {\n",
       "        vertical-align: middle;\n",
       "    }\n",
       "\n",
       "    .dataframe tbody tr th {\n",
       "        vertical-align: top;\n",
       "    }\n",
       "\n",
       "    .dataframe thead th {\n",
       "        text-align: right;\n",
       "    }\n",
       "</style>\n",
       "<table border=\"1\" class=\"dataframe\">\n",
       "  <thead>\n",
       "    <tr style=\"text-align: right;\">\n",
       "      <th></th>\n",
       "      <th>currency_id</th>\n",
       "      <th>price</th>\n",
       "      <th>status</th>\n",
       "      <th>name</th>\n",
       "      <th>market_cap</th>\n",
       "      <th>circulating_supply</th>\n",
       "      <th>volume</th>\n",
       "      <th>rank</th>\n",
       "      <th>high</th>\n",
       "      <th>high_timestamp</th>\n",
       "      <th>num_exchanges</th>\n",
       "    </tr>\n",
       "  </thead>\n",
       "  <tbody>\n",
       "    <tr>\n",
       "      <th>4649</th>\n",
       "      <td>GIZA</td>\n",
       "      <td>127.169763</td>\n",
       "      <td>active</td>\n",
       "      <td>GizaDao</td>\n",
       "      <td>0.0</td>\n",
       "      <td>0.0</td>\n",
       "      <td>0.0</td>\n",
       "      <td>9616</td>\n",
       "      <td>0.0</td>\n",
       "      <td>0</td>\n",
       "      <td>1</td>\n",
       "    </tr>\n",
       "  </tbody>\n",
       "</table>\n",
       "</div>"
      ],
      "text/plain": [
       "     currency_id       price  status     name  market_cap  circulating_supply  \\\n",
       "4649        GIZA  127.169763  active  GizaDao         0.0                 0.0   \n",
       "\n",
       "      volume  rank  high high_timestamp  num_exchanges  \n",
       "4649     0.0  9616   0.0              0              1  "
      ]
     },
     "execution_count": 9,
     "metadata": {},
     "output_type": "execute_result"
    }
   ],
   "source": [
    "adf[adf['currency_id'] == 'GIZA']"
   ]
  },
  {
   "cell_type": "code",
   "execution_count": 6,
   "metadata": {},
   "outputs": [],
   "source": [
    "from dotenv import load_dotenv\n",
    "import os\n",
    "import nomics\n",
    "from pprint import pprint as pp\n",
    "import json\n",
    "from time import sleep\n",
    "import pandas as pd\n",
    "import requests\n",
    "import io\n",
    "from collections import OrderedDict\n",
    "from copy import deepcopy\n",
    "from tqdm.notebook import tqdm_notebook as progress_bar\n",
    "from pathlib import Path\n",
    "\n",
    "# initialize the environment\n",
    "load_dotenv()\n",
    "API_KEY=os.getenv(\"API_KEY\")\n",
    "\n",
    "nom = nomics.Nomics(API_KEY)\n",
    "\n",
    "response = nom.Candles.get_candles(interval='1d', currency='GIZA')"
   ]
  },
  {
   "cell_type": "code",
   "execution_count": 7,
   "metadata": {},
   "outputs": [
    {
     "name": "stdout",
     "output_type": "stream",
     "text": [
      "[{'close': '131.68802947',\n",
      "  'high': '279.92064986',\n",
      "  'low': '131.46222595',\n",
      "  'open': '131.46222595',\n",
      "  'timestamp': '2021-12-04T00:00:00Z',\n",
      "  'transparent_close': '131.68802947',\n",
      "  'transparent_high': '279.92064986',\n",
      "  'transparent_low': '131.46222595',\n",
      "  'transparent_open': '131.46222595',\n",
      "  'transparent_volume': '731.91',\n",
      "  'volume': '731.91',\n",
      "  'volume_transparency': {'A': '731'}},\n",
      " {'close': '51.21414790',\n",
      "  'high': '177.09334590',\n",
      "  'low': '51.21414790',\n",
      "  'open': '73.89895467',\n",
      "  'timestamp': '2021-12-07T00:00:00Z',\n",
      "  'transparent_close': '51.21414790',\n",
      "  'transparent_high': '177.09334590',\n",
      "  'transparent_low': '51.21414790',\n",
      "  'transparent_open': '73.89895467',\n",
      "  'transparent_volume': '1783.05',\n",
      "  'volume': '1783.05',\n",
      "  'volume_transparency': {'A': '1783'}}]\n"
     ]
    }
   ],
   "source": [
    "pp(response)"
   ]
  },
  {
   "cell_type": "code",
   "execution_count": 10,
   "metadata": {},
   "outputs": [
    {
     "data": {
      "application/vnd.jupyter.widget-view+json": {
       "model_id": "6fdeae6899954c8bae1fab74831b6cd8",
       "version_major": 2,
       "version_minor": 0
      },
      "text/plain": [
       "Downloading candles:   0%|          | 0/515 [00:00<?, ?it/s]"
      ]
     },
     "metadata": {},
     "output_type": "display_data"
    },
    {
     "name": "stdout",
     "output_type": "stream",
     "text": [
      "\n",
      "Completed downloading candles...\n"
     ]
    }
   ],
   "source": [
    "# altered version to download hourly candles around the transaction times of certain currencies.\n",
    "\n",
    "from dotenv import load_dotenv\n",
    "import os\n",
    "import nomics\n",
    "from pprint import pprint as pp\n",
    "import json\n",
    "from time import sleep\n",
    "import pandas as pd\n",
    "import requests\n",
    "import io\n",
    "from collections import OrderedDict\n",
    "from copy import deepcopy\n",
    "from tqdm.notebook import tqdm_notebook as progress_bar\n",
    "from pathlib import Path\n",
    "from pathvalidate import is_valid_filename\n",
    "from datetime import datetime\n",
    "\n",
    "# initialize the environment\n",
    "load_dotenv()\n",
    "API_KEY=os.getenv(\"API_KEY\")\n",
    "\n",
    "nom = nomics.Nomics(API_KEY)\n",
    "\n",
    "# get the df from runs that want to be time matched\n",
    "df_path = Path(f'../bt_data_runs/cleaned_archive_max_10d_updated.pkl').resolve()\n",
    "new_df = pd.read_pickle(df_path)\n",
    "filtered_df = new_df[(new_df['sell_price_multiple']==20) & (new_df['status']=='closed')].reset_index(drop=True)\n",
    "\n",
    "\n",
    "# get the list of currencies\n",
    "currency_list = filtered_df['currency_id'].to_list()\n",
    "currency_list = list(set(currency_list))        # remove duplicates\n",
    "\n",
    "response = {}\n",
    "\n",
    "# get list of already downloaded and pickled currencies\n",
    "already_downloaded_currencies = []\n",
    "# already_downloaded_currencies = [x.stem for x in Path('..\\\\downloaded_data\\\\nomics\\\\candles').glob('*.pkl')]\n",
    "\n",
    "# get hourly candles for each currency starting at the transaction time - 6hrs and going for 24 hours\n",
    "for currency in progress_bar(currency_list, desc='Downloading candles'):\n",
    "    if currency not in already_downloaded_currencies:\n",
    "        start_time = filtered_df[filtered_df['currency_id'] == currency]['buy_date'].iloc[0] - pd.Timedelta(hours=6)\n",
    "        end_time = start_time + pd.Timedelta(hours=24)\n",
    "        start_time = start_time.tz_localize(tz='UTC')\n",
    "        end_time = end_time.tz_localize(tz='UTC')\n",
    "        response = nom.Candles.get_candles(interval='1h', currency=currency, start=start_time.isoformat(), end=end_time.isoformat())\n",
    "        df = pd.json_normalize(response)\n",
    "        df.fillna(0, inplace=True)\n",
    "        # add types\n",
    "        headers = df.columns.to_list()\n",
    "        for column in headers:\n",
    "            if column == 'timestamp':\n",
    "                df[column] = pd.to_datetime(df[column], infer_datetime_format=True)\n",
    "            else:\n",
    "                df[column] = df[column].astype(float)\n",
    "        # pickle the data\n",
    "        save_path = Path('..\\\\downloaded_data\\\\nomics\\\\hrly_candles\\\\' + currency + '.pkl').resolve()\n",
    "        df.to_pickle(save_path)\n",
    "\n",
    "print(\"\\nCompleted downloading candles...\")"
   ]
  },
  {
   "cell_type": "code",
   "execution_count": 7,
   "metadata": {},
   "outputs": [
    {
     "data": {
      "text/plain": [
       "'2017-06-03T18:00:00+00:00'"
      ]
     },
     "execution_count": 7,
     "metadata": {},
     "output_type": "execute_result"
    }
   ],
   "source": []
  },
  {
   "cell_type": "code",
   "execution_count": null,
   "metadata": {},
   "outputs": [],
   "source": []
  }
 ],
 "metadata": {
  "interpreter": {
   "hash": "dd47bc1732255228164658c1a6276d94951624dfed1955de1fadda2d454ded6f"
  },
  "kernelspec": {
   "display_name": "Python 3.9.9 ('crypto-vol-scanner-Rel0uyg_-py3.9')",
   "language": "python",
   "name": "python3"
  },
  "language_info": {
   "codemirror_mode": {
    "name": "ipython",
    "version": 3
   },
   "file_extension": ".py",
   "mimetype": "text/x-python",
   "name": "python",
   "nbconvert_exporter": "python",
   "pygments_lexer": "ipython3",
   "version": "3.9.9"
  },
  "orig_nbformat": 4
 },
 "nbformat": 4,
 "nbformat_minor": 2
}
