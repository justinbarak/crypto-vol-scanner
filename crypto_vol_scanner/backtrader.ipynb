{
 "cells": [
  {
   "cell_type": "code",
   "execution_count": 3,
   "metadata": {},
   "outputs": [
    {
     "name": "stdout",
     "output_type": "stream",
     "text": [
      "Starting Portfolio Value: 10000.00\n",
      "Final Portfolio Value: 10000.00\n"
     ]
    }
   ],
   "source": [
    "import datetime  # For datetime objects\n",
    "import os.path  # To manage paths\n",
    "import sys  # To find out the script name (in argv[0])\n",
    "\n",
    "# Import the backtrader platform\n",
    "import backtrader as bt\n",
    "\n",
    "# Data Feed\n",
    "# usually consists of Open, High, Low, Close, Volume, OpenInterest\n",
    "\n",
    "if __name__ == '__main__':\n",
    "    cerebro = bt.Cerebro()\n",
    "    \n",
    "    cerebro.broker.setcash(10000.0) # optional, 10k starting cash default\n",
    "\n",
    "    print(f'Starting Portfolio Value: {cerebro.broker.getvalue():.2f}')\n",
    "\n",
    "    cerebro.run()\n",
    "\n",
    "    print(f'Final Portfolio Value: {cerebro.broker.getvalue():.2f}')\n"
   ]
  },
  {
   "cell_type": "markdown",
   "metadata": {},
   "source": [
    "Link used for example:\n",
    "https://www.backtrader.com/docu/quickstart/quickstart/"
   ]
  },
  {
   "cell_type": "code",
   "execution_count": null,
   "metadata": {},
   "outputs": [],
   "source": []
  }
 ],
 "metadata": {
  "interpreter": {
   "hash": "650bf4e964f2324acfe49d7cc7420bc7245e74e6202fecae8063b11f5e1a23f0"
  },
  "kernelspec": {
   "display_name": "Python 3.9.9 64-bit ('crypto-vol-scanner-Rel0uyg_-py3.9': poetry)",
   "language": "python",
   "name": "python3"
  },
  "language_info": {
   "codemirror_mode": {
    "name": "ipython",
    "version": 3
   },
   "file_extension": ".py",
   "mimetype": "text/x-python",
   "name": "python",
   "nbconvert_exporter": "python",
   "pygments_lexer": "ipython3",
   "version": "3.9.9"
  },
  "orig_nbformat": 4
 },
 "nbformat": 4,
 "nbformat_minor": 2
}
