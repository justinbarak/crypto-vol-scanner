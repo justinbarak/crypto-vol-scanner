{
 "cells": [
  {
   "cell_type": "code",
   "execution_count": 1,
   "metadata": {},
   "outputs": [],
   "source": [
    "import dill as pickle\n",
    "import os\n",
    "from pprint import pprint as pp\n",
    "import json\n",
    "import pandas as pd\n",
    "from pandas.api.types import CategoricalDtype\n",
    "from copy import deepcopy\n",
    "from tqdm.notebook import tqdm_notebook as progress_bar\n",
    "from pathlib import Path\n",
    "import numpy as np\n",
    "from datetime import datetime, timedelta"
   ]
  },
  {
   "cell_type": "code",
   "execution_count": 10,
   "metadata": {},
   "outputs": [],
   "source": [
    "# main_path = Path('../bt_data_runs/archive_df.pkl').resolve()\n",
    "# main_df = pd.read_pickle(main_path)\n",
    "new_path = Path('../bt_data_runs/cleaned_archive_df.pkl').resolve()\n",
    "# updated_df.to_pickle(new_path)\n",
    "updated_df = pd.read_pickle(new_path)\n"
   ]
  },
  {
   "cell_type": "code",
   "execution_count": 5,
   "metadata": {},
   "outputs": [
    {
     "data": {
      "text/html": [
       "<div>\n",
       "<style scoped>\n",
       "    .dataframe tbody tr th:only-of-type {\n",
       "        vertical-align: middle;\n",
       "    }\n",
       "\n",
       "    .dataframe tbody tr th {\n",
       "        vertical-align: top;\n",
       "    }\n",
       "\n",
       "    .dataframe thead th {\n",
       "        text-align: right;\n",
       "    }\n",
       "</style>\n",
       "<table border=\"1\" class=\"dataframe\">\n",
       "  <thead>\n",
       "    <tr style=\"text-align: right;\">\n",
       "      <th></th>\n",
       "      <th>buy_date</th>\n",
       "      <th>sell_date</th>\n",
       "      <th>buy_price</th>\n",
       "      <th>sale_price</th>\n",
       "      <th>currency_id</th>\n",
       "      <th>run_name</th>\n",
       "      <th>status</th>\n",
       "      <th>sell_price_multiple</th>\n",
       "      <th>buy_volume_multiple</th>\n",
       "      <th>volume_avg_duration</th>\n",
       "      <th>transparent</th>\n",
       "      <th>profit</th>\n",
       "      <th>duration</th>\n",
       "      <th>ROI</th>\n",
       "      <th>monthly_ROI</th>\n",
       "    </tr>\n",
       "  </thead>\n",
       "  <tbody>\n",
       "    <tr>\n",
       "      <th>9157404</th>\n",
       "      <td>2021-10-02</td>\n",
       "      <td>1900-01-01</td>\n",
       "      <td>0.984262</td>\n",
       "      <td>1.004241</td>\n",
       "      <td>ZUSD4</td>\n",
       "      <td>ZUSD4(90,12,6.0,False)</td>\n",
       "      <td>opened</td>\n",
       "      <td>12</td>\n",
       "      <td>6</td>\n",
       "      <td>90</td>\n",
       "      <td>False</td>\n",
       "      <td>0.019979</td>\n",
       "      <td>64</td>\n",
       "      <td>-98.0</td>\n",
       "      <td>-16.328125</td>\n",
       "    </tr>\n",
       "    <tr>\n",
       "      <th>9157405</th>\n",
       "      <td>2021-10-02</td>\n",
       "      <td>1900-01-01</td>\n",
       "      <td>0.984262</td>\n",
       "      <td>1.004241</td>\n",
       "      <td>ZUSD4</td>\n",
       "      <td>ZUSD4(90,14,6.0,False)</td>\n",
       "      <td>opened</td>\n",
       "      <td>14</td>\n",
       "      <td>6</td>\n",
       "      <td>90</td>\n",
       "      <td>False</td>\n",
       "      <td>0.019979</td>\n",
       "      <td>64</td>\n",
       "      <td>-98.0</td>\n",
       "      <td>-16.328125</td>\n",
       "    </tr>\n",
       "    <tr>\n",
       "      <th>9157406</th>\n",
       "      <td>2021-10-02</td>\n",
       "      <td>1900-01-01</td>\n",
       "      <td>0.984262</td>\n",
       "      <td>1.004241</td>\n",
       "      <td>ZUSD4</td>\n",
       "      <td>ZUSD4(90,16,6.0,False)</td>\n",
       "      <td>opened</td>\n",
       "      <td>16</td>\n",
       "      <td>6</td>\n",
       "      <td>90</td>\n",
       "      <td>False</td>\n",
       "      <td>0.019979</td>\n",
       "      <td>64</td>\n",
       "      <td>-98.0</td>\n",
       "      <td>-16.328125</td>\n",
       "    </tr>\n",
       "    <tr>\n",
       "      <th>9157407</th>\n",
       "      <td>2021-10-02</td>\n",
       "      <td>1900-01-01</td>\n",
       "      <td>0.984262</td>\n",
       "      <td>1.004241</td>\n",
       "      <td>ZUSD4</td>\n",
       "      <td>ZUSD4(90,18,6.0,False)</td>\n",
       "      <td>opened</td>\n",
       "      <td>18</td>\n",
       "      <td>6</td>\n",
       "      <td>90</td>\n",
       "      <td>False</td>\n",
       "      <td>0.019979</td>\n",
       "      <td>64</td>\n",
       "      <td>-98.0</td>\n",
       "      <td>-16.328125</td>\n",
       "    </tr>\n",
       "    <tr>\n",
       "      <th>9157408</th>\n",
       "      <td>2021-10-02</td>\n",
       "      <td>1900-01-01</td>\n",
       "      <td>0.984262</td>\n",
       "      <td>1.004241</td>\n",
       "      <td>ZUSD4</td>\n",
       "      <td>ZUSD4(90,20,6.0,False)</td>\n",
       "      <td>opened</td>\n",
       "      <td>20</td>\n",
       "      <td>6</td>\n",
       "      <td>90</td>\n",
       "      <td>False</td>\n",
       "      <td>0.019979</td>\n",
       "      <td>64</td>\n",
       "      <td>-98.0</td>\n",
       "      <td>-16.328125</td>\n",
       "    </tr>\n",
       "  </tbody>\n",
       "</table>\n",
       "</div>"
      ],
      "text/plain": [
       "          buy_date  sell_date  buy_price  sale_price currency_id  \\\n",
       "9157404 2021-10-02 1900-01-01   0.984262    1.004241       ZUSD4   \n",
       "9157405 2021-10-02 1900-01-01   0.984262    1.004241       ZUSD4   \n",
       "9157406 2021-10-02 1900-01-01   0.984262    1.004241       ZUSD4   \n",
       "9157407 2021-10-02 1900-01-01   0.984262    1.004241       ZUSD4   \n",
       "9157408 2021-10-02 1900-01-01   0.984262    1.004241       ZUSD4   \n",
       "\n",
       "                       run_name  status  sell_price_multiple  \\\n",
       "9157404  ZUSD4(90,12,6.0,False)  opened                   12   \n",
       "9157405  ZUSD4(90,14,6.0,False)  opened                   14   \n",
       "9157406  ZUSD4(90,16,6.0,False)  opened                   16   \n",
       "9157407  ZUSD4(90,18,6.0,False)  opened                   18   \n",
       "9157408  ZUSD4(90,20,6.0,False)  opened                   20   \n",
       "\n",
       "         buy_volume_multiple  volume_avg_duration  transparent    profit  \\\n",
       "9157404                    6                   90        False  0.019979   \n",
       "9157405                    6                   90        False  0.019979   \n",
       "9157406                    6                   90        False  0.019979   \n",
       "9157407                    6                   90        False  0.019979   \n",
       "9157408                    6                   90        False  0.019979   \n",
       "\n",
       "         duration   ROI  monthly_ROI  \n",
       "9157404        64 -98.0   -16.328125  \n",
       "9157405        64 -98.0   -16.328125  \n",
       "9157406        64 -98.0   -16.328125  \n",
       "9157407        64 -98.0   -16.328125  \n",
       "9157408        64 -98.0   -16.328125  "
      ]
     },
     "execution_count": 5,
     "metadata": {},
     "output_type": "execute_result"
    }
   ],
   "source": [
    "main_df.tail()"
   ]
  },
  {
   "cell_type": "code",
   "execution_count": 6,
   "metadata": {},
   "outputs": [
    {
     "data": {
      "text/plain": [
       "buy_date               datetime64[ns]\n",
       "sell_date              datetime64[ns]\n",
       "buy_price                     float64\n",
       "sale_price                    float64\n",
       "currency_id                    object\n",
       "run_name                       object\n",
       "status                       category\n",
       "sell_price_multiple             int16\n",
       "buy_volume_multiple             int16\n",
       "volume_avg_duration             int16\n",
       "transparent                      bool\n",
       "profit                        float64\n",
       "duration                        int16\n",
       "ROI                           float16\n",
       "monthly_ROI                   float16\n",
       "dtype: object"
      ]
     },
     "execution_count": 6,
     "metadata": {},
     "output_type": "execute_result"
    }
   ],
   "source": [
    "main_df.dtypes"
   ]
  },
  {
   "cell_type": "markdown",
   "metadata": {},
   "source": [
    "### Functions:\n",
    "<ol>\n",
    "<li>A function to update the datatypes of the different columns.-done</li>\n",
    "<li>A function to calculate profit of the trade for a given row.-done</li>\n",
    "<li>A function to calculate present price of the currency if the position was not closed.-done</li>\n",
    "<li>A function to calculate duration of trade in days.-done</li>\n",
    "<li>A function to calculate ROI.-done</li>\n",
    "<li>A function to calculate ROI as % for 30 days.-done</li>\n",
    "<li>A function to return the price of a currency X days after initiating buy. Error handling for not enough data.-done</li>\n",
    "</ol>\n",
    "\n",
    "### Aggregate Analysis\n",
    "<ol>\n",
    "<li>Total Profit for all trades for a given set of parameters. New df with parameters and profits.</li>\n",
    "<li>Avg Profit for all trades with a given set of parameters.</li>\n",
    "<li>Number of trades executed for a given set of parameters.</li>\n",
    "<li>A template to filter out trades open longer than X days.</li>\n",
    "</ol>"
   ]
  },
  {
   "cell_type": "code",
   "execution_count": 10,
   "metadata": {},
   "outputs": [],
   "source": [
    "def apply_functions(raw_df: pd.DataFrame) -> pd.DataFrame:\n",
    "    df = deepcopy(raw_df)\n",
    "    # data now pre-typed\n",
    "    # df = type_raw_dataframe(raw_df)\n",
    "    df['sale_price']=df.apply(fill_in_open_positions, axis=1)\n",
    "    df['profit'] = df.apply(calculate_profit, axis=1)\n",
    "    MaxDate = max_date(df)\n",
    "    df['duration'] = df.apply(calculate_duration, axis=1, max_date=MaxDate).astype('int16')\n",
    "    # get rid of 0 priced positions\n",
    "    df = df[df['buy_price'] > 0]\n",
    "    df['ROI'] = df.apply(calculate_ROI, axis=1).astype('float16')\n",
    "    df['monthly_ROI'] = df.apply(calculate_monthly_ROI, axis=1).astype('float16')\n",
    "    return df\n",
    "\n",
    "def type_raw_dataframe(df: pd.DataFrame) -> pd.DataFrame:\n",
    "    cat_status = CategoricalDtype(\n",
    "        categories=['closed', 'opened'], \n",
    "        ordered=True,\n",
    "        )\n",
    "    return_df = df.astype(\n",
    "        {\n",
    "            'buy_date': 'datetime64',\n",
    "            'sell_date': 'datetime64',\n",
    "            'buy_price': 'float64',\n",
    "            'sale_price': 'float64',\n",
    "            'currency_id': 'str',\n",
    "            'run_name': str,\n",
    "            'status': cat_status,\n",
    "            'sell_price_multiple': 'int16',\n",
    "            'buy_volume_multiple': 'int16',\n",
    "            'volume_avg_duration': 'int16',\n",
    "            'transparent': bool,\n",
    "\n",
    "        }, copy=True\n",
    "    )\n",
    "    # return_df['buy_date'] = pd.to_datetime(return_df['buy_date'], infer_datetime_format=True)\n",
    "    # return_df['sell_date'] = pd.to_datetime(return_df['sell_date'], infer_datetime_format=True)\n",
    "    return return_df\n",
    "\n",
    "def calculate_profit(row: pd.DataFrame) -> float:\n",
    "    if row['sale_price'] != -1:\n",
    "        return row['sale_price'] - row['buy_price']\n",
    "    else:\n",
    "        raise ValueError('Sale price not updated, aborting...')\n",
    "\n",
    "def fill_in_open_positions(row: pd.DataFrame, dated:int=0) -> float:\n",
    "    if row['sale_price'] > 0:\n",
    "        return row['sale_price']\n",
    "    currency = row['currency_id']\n",
    "    candle_location = Path(f'../downloaded_data/nomics/candles/{currency}.pkl').resolve()\n",
    "    currency_df = pd.read_pickle(candle_location)\n",
    "    if dated == 0:\n",
    "        # return the last candle close price\n",
    "        return currency_df['close'].iloc[-1]\n",
    "    else:\n",
    "        # return the candle close price X days after the buy date\n",
    "        check_date = pd.to_datetime(row['buy_date'] + pd.Timedelta(days=int(dated)))\n",
    "        if check_date > currency_df['timestamp'].iloc[-1]:\n",
    "            raise ValueError(f'{currency} is not available for {check_date}')\n",
    "        else:\n",
    "            return currency_df.loc[currency_df['timestamp'] == check_date]['close'].iloc[0]\n",
    "\n",
    "def max_date(df = pd.DataFrame) -> datetime:\n",
    "    currency = df['currency_id'].iloc[0]\n",
    "    candle_location = Path(f'../downloaded_data/nomics/candles/{currency}.pkl').resolve()\n",
    "    currency_df = pd.read_pickle(candle_location)\n",
    "    return currency_df['timestamp'].iloc[-1]\n",
    "\n",
    "def calculate_duration(df: pd.DataFrame, max_date: datetime) -> int:\n",
    "    if df['status'] == 'opened':\n",
    "        return (max_date - df['buy_date']).days\n",
    "    return (df['sell_date'] - df['buy_date']).days\n",
    "\n",
    "def calculate_ROI(df: pd.DataFrame) -> float:\n",
    "    net_return = df['profit']-df['buy_price']\n",
    "    return net_return/df['buy_price']*100\n",
    "\n",
    "def calculate_monthly_ROI(df: pd.DataFrame) -> float:\n",
    "    # only run after calculating ROI\n",
    "    months_held = float(df['duration']/30)\n",
    "    # catch divide by zero, return absurdly high ROI to filter out later\n",
    "    if months_held < 0.01:\n",
    "        return 1000\n",
    "    monthly_ROI = ((df['ROI']+1) ** (1/months_held) - 1) * 100\n",
    "    return monthly_ROI\n",
    "\n"
   ]
  },
  {
   "cell_type": "code",
   "execution_count": 11,
   "metadata": {},
   "outputs": [
    {
     "name": "stderr",
     "output_type": "stream",
     "text": [
      "C:\\Users\\Gamer\\AppData\\Local\\pypoetry\\Cache\\virtualenvs\\crypto-vol-scanner-Rel0uyg_-py3.9\\lib\\site-packages\\pandas\\core\\dtypes\\cast.py:1201: ComplexWarning: Casting complex values to real discards the imaginary part\n",
      "  return arr.astype(dtype, copy=True)\n"
     ]
    }
   ],
   "source": [
    "updated_df = apply_functions(main_df)\n",
    "# 4.5k currencies took 46 minutes to run\n",
    "# all currencies took 1.5 hours to run"
   ]
  },
  {
   "cell_type": "code",
   "execution_count": 12,
   "metadata": {},
   "outputs": [
    {
     "data": {
      "text/plain": [
       "buy_date               datetime64[ns]\n",
       "sell_date              datetime64[ns]\n",
       "buy_price                     float64\n",
       "sale_price                    float64\n",
       "currency_id                    object\n",
       "run_name                       object\n",
       "status                       category\n",
       "sell_price_multiple             int16\n",
       "buy_volume_multiple             int16\n",
       "volume_avg_duration             int16\n",
       "transparent                      bool\n",
       "profit                        float64\n",
       "duration                        int16\n",
       "ROI                           float16\n",
       "monthly_ROI                   float16\n",
       "dtype: object"
      ]
     },
     "execution_count": 12,
     "metadata": {},
     "output_type": "execute_result"
    }
   ],
   "source": [
    "updated_df.dtypes"
   ]
  },
  {
   "cell_type": "code",
   "execution_count": 222,
   "metadata": {},
   "outputs": [
    {
     "name": "stdout",
     "output_type": "stream",
     "text": [
      "base size in MB 792.2067975997925\n",
      "completed analysis size in MB 822.7501363754272\n"
     ]
    }
   ],
   "source": [
    "import sys\n",
    "print(\"base size in MB\",sys.getsizeof(main_df)/(1024*1024))\n",
    "print(\"completed analysis size in MB\",sys.getsizeof(updated_df)/(1024*1024))\n"
   ]
  },
  {
   "cell_type": "code",
   "execution_count": 65,
   "metadata": {},
   "outputs": [
    {
     "data": {
      "text/plain": [
       "buy_date  \n",
       "2021-11-30    1962\n",
       "dtype: int64"
      ]
     },
     "execution_count": 65,
     "metadata": {},
     "output_type": "execute_result"
    }
   ],
   "source": [
    "closed_df = updated_df[(updated_df['status']=='closed') & ( updated_df['duration'] <= 5) & (updated_df['currency_id'] == 'DAO1POS')]\n",
    "# closed_df[['duration','ROI']].describe(datetime_is_numeric=True)\n",
    "# closed_df.plot(x='duration', y='ROI', c='sell_price_multiple', colormap='viridis', kind='scatter', figsize=(20,10), logx=True, logy=True)\n",
    "# closed_df.groupby()\n",
    "closed_df.value_counts(['buy_date'])\n",
    "# updated_df[updated_df['currency_id']=='PEE']\n",
    "\n",
    "# TADP           2016\n",
    "# INNBCBEP20     1980\n",
    "# DAO1POS        1962\n",
    "# TASTE          1928\n",
    "# BNX4           1926"
   ]
  },
  {
   "cell_type": "markdown",
   "metadata": {},
   "source": [
    "##### Further research points\n",
    "<ul>\n",
    "<li>break backtrader into smaller parts</li>\n",
    "<li>Avg Vol at trigger date (to buy)</li>\n",
    "<li>Correlation of volume to profit. What is meaningful volume?</li>\n",
    "<li>Consideration for forced exit after X days. Will increase overall ROI? What's the profile of a loser?</li>\n",
    "<li>Consideration if not in profit after X days, exit.</li>\n",
    "<li>Come up with simplifying criteria.</li>\n",
    "    <ul>\n",
    "    <li>volume must be meaningful to be considered.</li>\n",
    "    <li>show as different percentiles</li>\n",
    "    <li>maximum getting out of trade value is target multiple</li>\n",
    "    </ul>\n",
    "</ul>"
   ]
  },
  {
   "cell_type": "code",
   "execution_count": 74,
   "metadata": {},
   "outputs": [
    {
     "data": {
      "text/plain": [
       "<AxesSubplot:xlabel='buy_date', ylabel='duration'>"
      ]
     },
     "execution_count": 74,
     "metadata": {},
     "output_type": "execute_result"
    },
    {
     "data": {
      "image/png": "[encoded data removed]",
      "text/plain": [
       "<Figure size 1440x720 with 1 Axes>"
      ]
     },
     "metadata": {
      "needs_background": "light"
     },
     "output_type": "display_data"
    }
   ],
   "source": [
    "# updated_df[(updated_df['monthly_ROI']==np.Infinity) & (updated_df['duration']<5)].groupby(['duration','buy_volume_multiple'])['monthly_ROI'].count()\n",
    "filtered_df = updated_df[(updated_df['monthly_ROI']==np.Infinity)] #  & (updated_df['duration']<30)]\n",
    "# filtered_df['monthly_ROI']=\n",
    "# updated_df.plot(x='buy_price', y='sale_price', c='sell_price_multiple', colormap='viridis', kind='scatter', figsize=(20,10), logx=True, logy=True)\n",
    "updated_df.plot(x='buy_date', y='duration', kind='scatter', figsize=(20,10))"
   ]
  },
  {
   "cell_type": "code",
   "execution_count": 157,
   "metadata": {},
   "outputs": [],
   "source": [
    "buy_prices = main_df[main_df['buy_price'] > 0]"
   ]
  },
  {
   "cell_type": "code",
   "execution_count": 205,
   "metadata": {},
   "outputs": [
    {
     "data": {
      "text/plain": [
       "count                      9\n",
       "mean     2021-11-01 00:00:00\n",
       "min      2021-11-01 00:00:00\n",
       "25%      2021-11-01 00:00:00\n",
       "50%      2021-11-01 00:00:00\n",
       "75%      2021-11-01 00:00:00\n",
       "max      2021-11-01 00:00:00\n",
       "Name: buy_date, dtype: object"
      ]
     },
     "execution_count": 205,
     "metadata": {},
     "output_type": "execute_result"
    }
   ],
   "source": [
    "df['buy_date'].describe(datetime_is_numeric=True)"
   ]
  },
  {
   "cell_type": "code",
   "execution_count": 45,
   "metadata": {},
   "outputs": [
    {
     "data": {
      "text/plain": [
       "(8457696, 15)"
      ]
     },
     "execution_count": 45,
     "metadata": {},
     "output_type": "execute_result"
    }
   ],
   "source": [
    "updated_df.shape"
   ]
  },
  {
   "cell_type": "code",
   "execution_count": 73,
   "metadata": {},
   "outputs": [
    {
     "data": {
      "text/plain": [
       "<AxesSubplot:xlabel='timestamp'>"
      ]
     },
     "execution_count": 73,
     "metadata": {},
     "output_type": "execute_result"
    },
    {
     "data": {
      "image/png": "[encoded data removed]",
      "text/plain": [
       "<Figure size 1440x720 with 1 Axes>"
      ]
     },
     "metadata": {
      "needs_background": "light"
     },
     "output_type": "display_data"
    }
   ],
   "source": [
    "tadp = pd.read_pickle(Path(f'../downloaded_data/nomics/candles/TADP.pkl').resolve())\n",
    "tadp = tadp.loc[tadp['timestamp'] > '2021-10-01']\n",
    "tadp.plot(x='timestamp', y=['close', 'open'], kind='line', figsize=(20,10), subplots=False)"
   ]
  },
  {
   "cell_type": "code",
   "execution_count": 75,
   "metadata": {},
   "outputs": [
    {
     "data": {
      "text/plain": [
       "28"
      ]
     },
     "execution_count": 75,
     "metadata": {},
     "output_type": "execute_result"
    }
   ],
   "source": [
    "os.cpu_count()"
   ]
  },
  {
   "cell_type": "code",
   "execution_count": 1,
   "metadata": {},
   "outputs": [
    {
     "data": {
      "text/plain": [
       "24"
      ]
     },
     "execution_count": 1,
     "metadata": {},
     "output_type": "execute_result"
    }
   ],
   "source": [
    "import multiprocessing\n",
    "multiprocessing.cpu_count() * 6 // 7"
   ]
  },
  {
   "cell_type": "code",
   "execution_count": 3,
   "metadata": {},
   "outputs": [
    {
     "name": "stdout",
     "output_type": "stream",
     "text": [
      "currency VolAvgParam TriggerVolParam transparent\n"
     ]
    }
   ],
   "source": [
    "bob = ({\n",
    "\"currency\": 'USD',\n",
    "\"VolAvgParam\": 12,\n",
    "\"TriggerVolParam\": 4,\n",
    "\"transparent\": True,\n",
    "})\n",
    "print(**bob)"
   ]
  },
  {
   "cell_type": "code",
   "execution_count": 21,
   "metadata": {},
   "outputs": [],
   "source": [
    "import pandas as pd\n",
    "from pathlib import Path\n",
    "\n",
    "df = pd.read_pickle(Path(f'../bt_data_runs/aggregated_archive_df.pkl').resolve())"
   ]
  },
  {
   "cell_type": "code",
   "execution_count": 22,
   "metadata": {},
   "outputs": [
    {
     "data": {
      "text/plain": [
       "<AxesSubplot:xlabel='buy_date', ylabel='buy_avg_volume'>"
      ]
     },
     "execution_count": 22,
     "metadata": {},
     "output_type": "execute_result"
    },
    {
     "data": {
      "image/png": "[encoded data removed]",
      "text/plain": [
       "<Figure size 1440x720 with 2 Axes>"
      ]
     },
     "metadata": {
      "needs_background": "light"
     },
     "output_type": "display_data"
    }
   ],
   "source": [
    "\n",
    "df.plot(x='buy_date', y='buy_avg_volume', c='volume_avg_duration', cmap='viridis', kind='scatter', figsize=(20,10), subplots=False, logy=False)"
   ]
  },
  {
   "cell_type": "code",
   "execution_count": 16,
   "metadata": {},
   "outputs": [
    {
     "data": {
      "text/plain": [
       "ETH    225\n",
       "Name: currency_id, dtype: int64"
      ]
     },
     "execution_count": 16,
     "metadata": {},
     "output_type": "execute_result"
    }
   ],
   "source": [
    "filtered_df = df[(df['buy_date']==pd.to_datetime('2017-3-17'))]\n",
    "filtered_df['currency_id'].value_counts()"
   ]
  },
  {
   "cell_type": "code",
   "execution_count": 24,
   "metadata": {},
   "outputs": [
    {
     "data": {
      "text/plain": [
       "(1629, 12)"
      ]
     },
     "execution_count": 24,
     "metadata": {},
     "output_type": "execute_result"
    }
   ],
   "source": [
    "df.shape"
   ]
  },
  {
   "cell_type": "code",
   "execution_count": 27,
   "metadata": {},
   "outputs": [
    {
     "name": "stdout",
     "output_type": "stream",
     "text": [
      "|████████████████████████████████████████| 10/10 [100%] in 2.6s (3.89/s)\n"
     ]
    }
   ],
   "source": [
    "from alive_progress import alive_bar\n",
    "import time\n",
    "\n",
    "with alive_bar(10, theme='smooth') as bar:\n",
    "    for i in range(10):\n",
    "        time.sleep(0.25)\n",
    "        bar()"
   ]
  },
  {
   "cell_type": "code",
   "execution_count": null,
   "metadata": {},
   "outputs": [],
   "source": []
  }
 ],
 "metadata": {
  "interpreter": {
   "hash": "650bf4e964f2324acfe49d7cc7420bc7245e74e6202fecae8063b11f5e1a23f0"
  },
  "kernelspec": {
   "display_name": "Python 3.9.9 64-bit ('crypto-vol-scanner-Rel0uyg_-py3.9': poetry)",
   "language": "python",
   "name": "python3"
  },
  "language_info": {
   "codemirror_mode": {
    "name": "ipython",
    "version": 3
   },
   "file_extension": ".py",
   "mimetype": "text/x-python",
   "name": "python",
   "nbconvert_exporter": "python",
   "pygments_lexer": "ipython3",
   "version": "3.9.9"
  },
  "orig_nbformat": 4
 },
 "nbformat": 4,
 "nbformat_minor": 2
}
