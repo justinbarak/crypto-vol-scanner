{
 "cells": [
  {
   "cell_type": "code",
   "execution_count": 121,
   "metadata": {},
   "outputs": [],
   "source": [
    "import dill as pickle\n",
    "import os\n",
    "from pprint import pprint as pp\n",
    "import json\n",
    "import pandas as pd\n",
    "from pandas.api.types import CategoricalDtype\n",
    "from copy import deepcopy\n",
    "from tqdm.notebook import tqdm_notebook as progress_bar\n",
    "from pathlib import Path\n",
    "import numpy as np\n",
    "from datetime import datetime, timedelta"
   ]
  },
  {
   "cell_type": "code",
   "execution_count": 198,
   "metadata": {},
   "outputs": [],
   "source": [
    "main_path = Path('../bt_data_runs/_temp_df.pkl').resolve()\n",
    "main_df = pd.read_pickle(main_path)\n",
    "# main_df = type_raw_dataframe(main_df)\n",
    "# main_df.to_pickle(main_path)\n"
   ]
  },
  {
   "cell_type": "code",
   "execution_count": 149,
   "metadata": {},
   "outputs": [
    {
     "data": {
      "text/html": [
       "<div>\n",
       "<style scoped>\n",
       "    .dataframe tbody tr th:only-of-type {\n",
       "        vertical-align: middle;\n",
       "    }\n",
       "\n",
       "    .dataframe tbody tr th {\n",
       "        vertical-align: top;\n",
       "    }\n",
       "\n",
       "    .dataframe thead th {\n",
       "        text-align: right;\n",
       "    }\n",
       "</style>\n",
       "<table border=\"1\" class=\"dataframe\">\n",
       "  <thead>\n",
       "    <tr style=\"text-align: right;\">\n",
       "      <th></th>\n",
       "      <th>buy_date</th>\n",
       "      <th>sell_date</th>\n",
       "      <th>buy_price</th>\n",
       "      <th>sale_price</th>\n",
       "      <th>currency_id</th>\n",
       "      <th>run_name</th>\n",
       "      <th>status</th>\n",
       "      <th>sell_price_multiple</th>\n",
       "      <th>buy_volume_multiple</th>\n",
       "      <th>volume_avg_duration</th>\n",
       "      <th>transparent</th>\n",
       "    </tr>\n",
       "  </thead>\n",
       "  <tbody>\n",
       "    <tr>\n",
       "      <th>0</th>\n",
       "      <td>2018-10-30</td>\n",
       "      <td>2021-04-04</td>\n",
       "      <td>0.381455</td>\n",
       "      <td>1.525818</td>\n",
       "      <td>0XBTC</td>\n",
       "      <td>0XBTC(10,4,6.0,True)</td>\n",
       "      <td>closed</td>\n",
       "      <td>4</td>\n",
       "      <td>6</td>\n",
       "      <td>10</td>\n",
       "      <td>True</td>\n",
       "    </tr>\n",
       "    <tr>\n",
       "      <th>1</th>\n",
       "      <td>2018-10-30</td>\n",
       "      <td>2021-04-05</td>\n",
       "      <td>0.381455</td>\n",
       "      <td>2.288728</td>\n",
       "      <td>0XBTC</td>\n",
       "      <td>0XBTC(10,6,6.0,True)</td>\n",
       "      <td>closed</td>\n",
       "      <td>6</td>\n",
       "      <td>6</td>\n",
       "      <td>10</td>\n",
       "      <td>True</td>\n",
       "    </tr>\n",
       "    <tr>\n",
       "      <th>2</th>\n",
       "      <td>2018-10-30</td>\n",
       "      <td>2021-11-22</td>\n",
       "      <td>0.381455</td>\n",
       "      <td>3.051637</td>\n",
       "      <td>0XBTC</td>\n",
       "      <td>0XBTC(10,8,6.0,True)</td>\n",
       "      <td>closed</td>\n",
       "      <td>8</td>\n",
       "      <td>6</td>\n",
       "      <td>10</td>\n",
       "      <td>True</td>\n",
       "    </tr>\n",
       "    <tr>\n",
       "      <th>3</th>\n",
       "      <td>2018-10-30</td>\n",
       "      <td>1900-01-01</td>\n",
       "      <td>0.381455</td>\n",
       "      <td>-1.000000</td>\n",
       "      <td>0XBTC</td>\n",
       "      <td>0XBTC(10,10,6.0,True)</td>\n",
       "      <td>opened</td>\n",
       "      <td>10</td>\n",
       "      <td>6</td>\n",
       "      <td>10</td>\n",
       "      <td>True</td>\n",
       "    </tr>\n",
       "    <tr>\n",
       "      <th>4</th>\n",
       "      <td>2018-10-30</td>\n",
       "      <td>1900-01-01</td>\n",
       "      <td>0.381455</td>\n",
       "      <td>-1.000000</td>\n",
       "      <td>0XBTC</td>\n",
       "      <td>0XBTC(10,12,6.0,True)</td>\n",
       "      <td>opened</td>\n",
       "      <td>12</td>\n",
       "      <td>6</td>\n",
       "      <td>10</td>\n",
       "      <td>True</td>\n",
       "    </tr>\n",
       "  </tbody>\n",
       "</table>\n",
       "</div>"
      ],
      "text/plain": [
       "    buy_date  sell_date  buy_price  sale_price currency_id  \\\n",
       "0 2018-10-30 2021-04-04   0.381455    1.525818       0XBTC   \n",
       "1 2018-10-30 2021-04-05   0.381455    2.288728       0XBTC   \n",
       "2 2018-10-30 2021-11-22   0.381455    3.051637       0XBTC   \n",
       "3 2018-10-30 1900-01-01   0.381455   -1.000000       0XBTC   \n",
       "4 2018-10-30 1900-01-01   0.381455   -1.000000       0XBTC   \n",
       "\n",
       "                run_name  status  sell_price_multiple  buy_volume_multiple  \\\n",
       "0   0XBTC(10,4,6.0,True)  closed                    4                    6   \n",
       "1   0XBTC(10,6,6.0,True)  closed                    6                    6   \n",
       "2   0XBTC(10,8,6.0,True)  closed                    8                    6   \n",
       "3  0XBTC(10,10,6.0,True)  opened                   10                    6   \n",
       "4  0XBTC(10,12,6.0,True)  opened                   12                    6   \n",
       "\n",
       "   volume_avg_duration  transparent  \n",
       "0                   10         True  \n",
       "1                   10         True  \n",
       "2                   10         True  \n",
       "3                   10         True  \n",
       "4                   10         True  "
      ]
     },
     "execution_count": 149,
     "metadata": {},
     "output_type": "execute_result"
    }
   ],
   "source": [
    "main_df.head()"
   ]
  },
  {
   "cell_type": "code",
   "execution_count": 199,
   "metadata": {},
   "outputs": [
    {
     "data": {
      "text/plain": [
       "buy_date                       object\n",
       "sell_date              datetime64[ns]\n",
       "buy_price                     float64\n",
       "sale_price                     object\n",
       "currency_id                    object\n",
       "run_name                       object\n",
       "status                         object\n",
       "sell_price_multiple            object\n",
       "buy_volume_multiple            object\n",
       "volume_avg_duration            object\n",
       "transparent                    object\n",
       "dtype: object"
      ]
     },
     "execution_count": 199,
     "metadata": {},
     "output_type": "execute_result"
    }
   ],
   "source": [
    "main_df.dtypes"
   ]
  },
  {
   "cell_type": "markdown",
   "metadata": {},
   "source": [
    "### Functions:\n",
    "<ol>\n",
    "<li>A function to update the datatypes of the different columns.-done</li>\n",
    "<li>A function to calculate profit of the trade for a given row.-done</li>\n",
    "<li>A function to calculate present price of the currency if the position was not closed.-done</li>\n",
    "<li>A function to calculate duration of trade in days.-done</li>\n",
    "<li>A function to calculate ROI.-done</li>\n",
    "<li>A function to calculate ROI as % for 30 days.-done</li>\n",
    "<li>A function to return the price of a currency X days after initiating buy. Error handling for not enough data.-done</li>\n",
    "</ol>\n",
    "\n",
    "### Aggregate Analysis\n",
    "<ol>\n",
    "<li>Total Profit for all trades for a given set of parameters. New df with parameters and profits.</li>\n",
    "<li>Avg Profit for all trades with a given set of parameters.</li>\n",
    "<li>Number of trades executed for a given set of parameters.</li>\n",
    "<li>A template to filter out trades open longer than X days.</li>\n",
    "</ol>"
   ]
  },
  {
   "cell_type": "code",
   "execution_count": 196,
   "metadata": {},
   "outputs": [],
   "source": [
    "def apply_functions(raw_df: pd.DataFrame) -> pd.DataFrame:\n",
    "    df = type_raw_dataframe(raw_df)\n",
    "    df['sale_price']=df.apply(fill_in_open_positions, axis=1)\n",
    "    df['profit'] = df.apply(calculate_profit, axis=1)\n",
    "    MaxDate = max_date(df)\n",
    "    df['duration'] = df.apply(calculate_duration, axis=1, max_date=MaxDate).astype('int16')\n",
    "    # get rid of 0 priced positions\n",
    "    df = df[df['buy_price'] > 0]\n",
    "    df['ROI'] = df.apply(calculate_ROI, axis=1).astype('float16')\n",
    "    df['monthly_ROI'] = df.apply(calculate_monthly_ROI, axis=1).astype('float16')\n",
    "    return df\n",
    "\n",
    "def type_raw_dataframe(df: pd.DataFrame) -> pd.DataFrame:\n",
    "    cat_status = CategoricalDtype(\n",
    "        categories=['closed', 'opened'], \n",
    "        ordered=True,\n",
    "        )\n",
    "    return_df = df.astype(\n",
    "        {\n",
    "            # 'buy_date': np.datetime64,\n",
    "            # 'sell_date': np.datetime64,\n",
    "            'buy_price': 'float64',\n",
    "            'sale_price': 'float64',\n",
    "            'currency_id': 'str',\n",
    "            'run_name': str,\n",
    "            'status': cat_status,\n",
    "            'sell_price_multiple': 'int16',\n",
    "            'buy_volume_multiple': 'int16',\n",
    "            'volume_avg_duration': 'int16',\n",
    "            'transparent': bool,\n",
    "\n",
    "        }, copy=True\n",
    "    )\n",
    "    return_df['buy_date'] = pd.to_datetime(return_df['buy_date'], infer_datetime_format=True)\n",
    "    return_df['sell_date'] = pd.to_datetime(return_df['sell_date'], infer_datetime_format=True)\n",
    "    return return_df\n",
    "\n",
    "def calculate_profit(row: pd.DataFrame) -> float:\n",
    "    if row['sale_price'] != -1:\n",
    "        return row['sale_price'] - row['buy_price']\n",
    "    else:\n",
    "        raise ValueError('Sale price not updated, aborting...')\n",
    "\n",
    "def fill_in_open_positions(row: pd.DataFrame, dated:int=0) -> float:\n",
    "    if row['sale_price'] > 0:\n",
    "        return row['sale_price']\n",
    "    currency = row['currency_id']\n",
    "    candle_location = Path(f'../downloaded_data/nomics/candles/{currency}.pkl').resolve()\n",
    "    currency_df = pd.read_pickle(candle_location)\n",
    "    if dated == 0:\n",
    "        # return the last candle close price\n",
    "        return currency_df['close'].iloc[-1]\n",
    "    else:\n",
    "        # return the candle close price X days after the buy date\n",
    "        check_date = pd.to_datetime(row['buy_date'] + pd.Timedelta(days=int(dated)))\n",
    "        if check_date > currency_df['timestamp'].iloc[-1]:\n",
    "            raise ValueError(f'{currency} is not available for {check_date}')\n",
    "        else:\n",
    "            return currency_df.loc[currency_df['timestamp'] == check_date]['close'].iloc[0]\n",
    "\n",
    "def max_date(df = pd.DataFrame) -> datetime:\n",
    "    currency = df['currency_id'].iloc[0]\n",
    "    candle_location = Path(f'../downloaded_data/nomics/candles/{currency}.pkl').resolve()\n",
    "    currency_df = pd.read_pickle(candle_location)\n",
    "    return currency_df['timestamp'].iloc[-1]\n",
    "\n",
    "def calculate_duration(df: pd.DataFrame, max_date: datetime) -> int:\n",
    "    if df['status'] == 'opened':\n",
    "        return (max_date - df['buy_date']).days\n",
    "    return (df['sell_date'] - df['buy_date']).days\n",
    "\n",
    "def calculate_ROI(df: pd.DataFrame) -> float:\n",
    "    net_return = df['profit']-df['buy_price']\n",
    "    return net_return/df['buy_price']*100\n",
    "\n",
    "def calculate_monthly_ROI(df: pd.DataFrame) -> float:\n",
    "    # only run after calculating ROI\n",
    "    months_held = df['duration']/30\n",
    "    monthly_ROI = ((df['ROI']+1) ** (1/months_held) - 1) * 100\n",
    "    return monthly_ROI\n",
    "\n"
   ]
  },
  {
   "cell_type": "code",
   "execution_count": null,
   "metadata": {},
   "outputs": [],
   "source": [
    "typed_df = apply_functions(main_df)"
   ]
  },
  {
   "cell_type": "code",
   "execution_count": 117,
   "metadata": {},
   "outputs": [
    {
     "data": {
      "text/plain": [
       "buy_date               datetime64[ns]\n",
       "sell_date              datetime64[ns]\n",
       "buy_price                     float64\n",
       "sale_price                    float64\n",
       "currency_id                    object\n",
       "run_name                       object\n",
       "status                       category\n",
       "sell_price_multiple             int16\n",
       "buy_volume_multiple             int16\n",
       "volume_avg_duration             int16\n",
       "transparent                      bool\n",
       "profit                        float64\n",
       "dtype: object"
      ]
     },
     "execution_count": 117,
     "metadata": {},
     "output_type": "execute_result"
    }
   ],
   "source": [
    "typed_df.dtypes"
   ]
  },
  {
   "cell_type": "code",
   "execution_count": 103,
   "metadata": {},
   "outputs": [
    {
     "name": "stdout",
     "output_type": "stream",
     "text": [
      "typed 0.0010442733764648438\n",
      "untyped 345.4046058654785\n"
     ]
    }
   ],
   "source": [
    "import sys\n",
    "print(\"typed\",sys.getsizeof(typed_df)/(1024*1024))\n",
    "print(\"untyped\",sys.getsizeof(main_df)/(1024*1024))"
   ]
  },
  {
   "cell_type": "code",
   "execution_count": 200,
   "metadata": {},
   "outputs": [
    {
     "data": {
      "text/plain": [
       "buy_date               datetime64[ns]\n",
       "sell_date              datetime64[ns]\n",
       "buy_price                     float64\n",
       "sale_price                    float64\n",
       "currency_id                    object\n",
       "run_name                       object\n",
       "status                       category\n",
       "sell_price_multiple             int16\n",
       "buy_volume_multiple             int16\n",
       "volume_avg_duration             int16\n",
       "transparent                      bool\n",
       "dtype: object"
      ]
     },
     "execution_count": 200,
     "metadata": {},
     "output_type": "execute_result"
    }
   ],
   "source": [
    "df = type_raw_dataframe(main_df)\n",
    "\n",
    "# def test(df: pd.DataFrame) -> pd.DataFrame:\n",
    "#     currency = df['currency_id']\n",
    "#     candle_location = Path(f'../downloaded_data/nomics/candles/{currency}.pkl').resolve()\n",
    "#     currency_df = pd.read_pickle(candle_location)\n",
    "#     check_date = pd.to_datetime(df['buy_date'] + pd.Timedelta(days=int(30)))\n",
    "#     print(currency_df.loc[currency_df['timestamp'] == check_date]['close'].iloc[0])\n",
    "\n",
    "# df['sale_price'] = df.apply(fill_in_open_positions, axis=1)\n",
    "# MaxDate = max_date(df)\n",
    "# df['duration'] = df.apply(calculate_duration, axis=1, max_date=MaxDate).astype('int16')\n",
    "# df = df.astype({'duration': 'int16'}, copy=True)\n",
    "df.dtypes"
   ]
  },
  {
   "cell_type": "code",
   "execution_count": 139,
   "metadata": {},
   "outputs": [
    {
     "data": {
      "text/plain": [
       "buy_date               datetime64[ns]\n",
       "sell_date              datetime64[ns]\n",
       "buy_price                     float64\n",
       "sale_price                    float64\n",
       "currency_id                    object\n",
       "run_name                       object\n",
       "status                       category\n",
       "sell_price_multiple             int16\n",
       "buy_volume_multiple             int16\n",
       "volume_avg_duration             int16\n",
       "transparent                      bool\n",
       "duration                        int16\n",
       "dtype: object"
      ]
     },
     "execution_count": 139,
     "metadata": {},
     "output_type": "execute_result"
    }
   ],
   "source": [
    "df.dtypes"
   ]
  },
  {
   "cell_type": "code",
   "execution_count": 157,
   "metadata": {},
   "outputs": [],
   "source": [
    "buy_prices = main_df[main_df['buy_price'] > 0]"
   ]
  },
  {
   "cell_type": "code",
   "execution_count": 160,
   "metadata": {},
   "outputs": [
    {
     "data": {
      "text/plain": [
       "count    2.096364e+06\n",
       "mean     2.451705e+02\n",
       "std      2.869816e+03\n",
       "min      8.800000e-17\n",
       "25%      1.687128e-03\n",
       "50%      5.776551e-02\n",
       "75%      9.382706e-01\n",
       "max      1.653324e+05\n",
       "Name: buy_price, dtype: float64"
      ]
     },
     "execution_count": 160,
     "metadata": {},
     "output_type": "execute_result"
    }
   ],
   "source": [
    "buy_prices['buy_price'].describe()"
   ]
  },
  {
   "cell_type": "code",
   "execution_count": null,
   "metadata": {},
   "outputs": [],
   "source": [
    "save_path = Path('../bt_data_runs/archive_df_test.pkl').resolve()\n",
    "df.to_pickle(save_path)\n"
   ]
  }
 ],
 "metadata": {
  "interpreter": {
   "hash": "650bf4e964f2324acfe49d7cc7420bc7245e74e6202fecae8063b11f5e1a23f0"
  },
  "kernelspec": {
   "display_name": "Python 3.9.9 64-bit ('crypto-vol-scanner-Rel0uyg_-py3.9': poetry)",
   "language": "python",
   "name": "python3"
  },
  "language_info": {
   "codemirror_mode": {
    "name": "ipython",
    "version": 3
   },
   "file_extension": ".py",
   "mimetype": "text/x-python",
   "name": "python",
   "nbconvert_exporter": "python",
   "pygments_lexer": "ipython3",
   "version": "3.9.9"
  },
  "orig_nbformat": 4
 },
 "nbformat": 4,
 "nbformat_minor": 2
}
