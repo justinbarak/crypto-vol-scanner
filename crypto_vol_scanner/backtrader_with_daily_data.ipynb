{
 "cells": [
  {
   "cell_type": "code",
   "execution_count": 1,
   "metadata": {},
   "outputs": [],
   "source": [
    "from dotenv import load_dotenv\n",
    "import os\n",
    "import nomics\n",
    "from pprint import pprint as pp\n",
    "import json\n",
    "import pandas as pd\n",
    "import io\n",
    "from collections import OrderedDict\n",
    "from copy import deepcopy\n",
    "from tqdm.notebook import tqdm_notebook as progress_bar\n",
    "from pathlib import Path\n",
    "import backtrader as bt\n",
    "from nomics_bt_strategy import VolumeStrategy\n",
    "from nomics_data_prep_for_backtrader import load_currency_data, all_currencies\n",
    "from backtrader.feeds import PandasData\n",
    "import dill as pickle\n",
    "\n",
    "class PandasData_normal(PandasData):\n",
    "    \"\"\"\n",
    "    The ``dataname`` parameter inherited from ``bt.feed.DataBase`` is the pandas\n",
    "    DataFrame\n",
    "    \"\"\"\n",
    "    params = (\n",
    "        # Possible values for datetime (must always be present)\n",
    "        #  None : datetime is the \"index\" in the Pandas Dataframe\n",
    "        #  -1 : autodetect position or case-wise equal name\n",
    "        #  >= 0 : numeric index to the colum in the pandas dataframe\n",
    "        #  string : column name (as index) in the pandas dataframe\n",
    "        (\"datetime\", None),\n",
    "        # Possible values below:\n",
    "        #  None : column not present\n",
    "        #  -1 : autodetect position or case-wise equal name\n",
    "        #  >= 0 : numeric index to the colum in the pandas dataframe\n",
    "        #  string : column name (as index) in the pandas dataframe\n",
    "        (\"open\", \"open\"),\n",
    "        (\"high\", \"high\"),\n",
    "        (\"low\", \"low\"),\n",
    "        (\"close\", \"close\"),\n",
    "        (\"volume\", \"volume\"),\n",
    "    )\n",
    "class PandasData_transparent(PandasData):\n",
    "    \"\"\"\n",
    "    The ``dataname`` parameter inherited from ``bt.feed.DataBase`` is the pandas\n",
    "    DataFrame\n",
    "    \"\"\"\n",
    "    params = (\n",
    "        # Possible values for datetime (must always be present)\n",
    "        #  None : datetime is the \"index\" in the Pandas Dataframe\n",
    "        #  -1 : autodetect position or case-wise equal name\n",
    "        #  >= 0 : numeric index to the colum in the pandas dataframe\n",
    "        #  string : column name (as index) in the pandas dataframe\n",
    "        (\"datetime\", None),\n",
    "        # Possible values below:\n",
    "        #  None : column not present\n",
    "        #  -1 : autodetect position or case-wise equal name\n",
    "        #  >= 0 : numeric index to the colum in the pandas dataframe\n",
    "        #  string : column name (as index) in the pandas dataframe\n",
    "        (\"open\", \"transparent_open\"),\n",
    "        (\"high\", \"transparent_high\"),\n",
    "        (\"low\", \"transparent_low\"),\n",
    "        (\"close\", \"transparent_close\"),\n",
    "        (\"volume\", \"transparent_volume\"),\n",
    "    )"
   ]
  },
  {
   "cell_type": "code",
   "execution_count": 11,
   "metadata": {},
   "outputs": [
    {
     "data": {
      "application/vnd.jupyter.widget-view+json": {
       "model_id": "d1344521cde741aab74dc40c7e9b77c4",
       "version_major": 2,
       "version_minor": 0
      },
      "text/plain": [
       "Currencies:   0%|          | 0/5 [00:00<?, ?it/s]"
      ]
     },
     "metadata": {},
     "output_type": "display_data"
    },
    {
     "data": {
      "application/vnd.jupyter.widget-view+json": {
       "model_id": "b375fb41cbf340b4a569dc4357a26457",
       "version_major": 2,
       "version_minor": 0
      },
      "text/plain": [
       "VolAvgParameters-MATIC:   0%|          | 0/18 [00:00<?, ?it/s]"
      ]
     },
     "metadata": {},
     "output_type": "display_data"
    },
    {
     "data": {
      "application/vnd.jupyter.widget-view+json": {
       "model_id": "0009a990640f4f498e12489b1d212db3",
       "version_major": 2,
       "version_minor": 0
      },
      "text/plain": [
       "VolAvgParameters-TITAN4:   0%|          | 0/18 [00:00<?, ?it/s]"
      ]
     },
     "metadata": {},
     "output_type": "display_data"
    },
    {
     "data": {
      "application/vnd.jupyter.widget-view+json": {
       "model_id": "6a7580bc6eec4028b9a38e308042095a",
       "version_major": 2,
       "version_minor": 0
      },
      "text/plain": [
       "VolAvgParameters-BLAST4:   0%|          | 0/18 [00:00<?, ?it/s]"
      ]
     },
     "metadata": {},
     "output_type": "display_data"
    },
    {
     "data": {
      "application/vnd.jupyter.widget-view+json": {
       "model_id": "beeacb51cdb8427ebc7970f0f169cfd9",
       "version_major": 2,
       "version_minor": 0
      },
      "text/plain": [
       "VolAvgParameters-BLAST3:   0%|          | 0/18 [00:00<?, ?it/s]"
      ]
     },
     "metadata": {},
     "output_type": "display_data"
    },
    {
     "data": {
      "application/vnd.jupyter.widget-view+json": {
       "model_id": "d641a08ffd974389957db813c688eac7",
       "version_major": 2,
       "version_minor": 0
      },
      "text/plain": [
       "VolAvgParameters-FLR:   0%|          | 0/18 [00:00<?, ?it/s]"
      ]
     },
     "metadata": {},
     "output_type": "display_data"
    }
   ],
   "source": [
    "results_folder = Path(\"../bt_data_runs/\").resolve()\n",
    "temp_save_path = results_folder.joinpath(f\"_temp_df.pkl\")\n",
    "archive_save_path = results_folder.joinpath(f\"archive_df.pkl\")\n",
    "\n",
    "# Option to save existing dataframe and skip already completed currencies\n",
    "total_redo = True\n",
    "if total_redo:\n",
    "    # clear existing archive\n",
    "    if os.path.exists(archive_save_path):\n",
    "        os.remove(archive_save_path)\n",
    "    archive_df = pd.DataFrame()\n",
    "    completed_currencies = []\n",
    "else:\n",
    "    # load existing archive\n",
    "    if os.path.exists(archive_save_path):\n",
    "        archive_df = pd.read_pickle(archive_save_path)\n",
    "        with open(results_folder.joinpath(f\"completed_currencies.pkl\"), \"rb\") as f:\n",
    "            completed_currencies = pickle.load(f)\n",
    "    else:\n",
    "        archive_df = pd.DataFrame()\n",
    "        completed_currencies = []\n",
    "\n",
    "\n",
    "currencies = all_currencies()\n",
    "# currencies = ['MATIC','TITAN4','BLAST4', 'BLAST3', 'FLR']\n",
    "\n",
    "for currency in progress_bar(currencies, desc=\"Currencies\"):\n",
    "    # load data\n",
    "    data_df = load_currency_data(currency)\n",
    "    data_df.set_index('timestamp', inplace=True)\n",
    "\n",
    "    data_normal = PandasData_normal(dataname=data_df)\n",
    "    data_transparent = PandasData_transparent(dataname=data_df)\n",
    "    df_list = []\n",
    "    \n",
    "    candle_length = len(data_df)\n",
    "\n",
    "    for VolAvgParam in progress_bar(range(5,95,5), desc=f\"VolAvgParameters-{currency}\", leave=False):\n",
    "        if VolAvgParam + 2 >= candle_length:\n",
    "            # avoid errors with averaging\n",
    "            continue\n",
    "        for TriggerVolParam in range(6,20,2):\n",
    "            for transparent in [True, False]:\n",
    "                cerebro = bt.Cerebro()\n",
    "                # Add the Data Feed to Cerebro\n",
    "                if transparent:\n",
    "                    cerebro.adddata(data_transparent)\n",
    "                else:\n",
    "                    cerebro.adddata(data_normal)\n",
    "                # params = (\n",
    "                #         (\"VolAvgLength\", int(50)),\n",
    "                #         (\"TriggerPriceMultipliers\", list(range(4, 22, 2))),\n",
    "                #         (\"TriggerVolumeMultiplier\", 10.0),\n",
    "                #         (\"OnlyTransparent\", False),\n",
    "                #         (\"CurrencyID\", \"NONE\"),\n",
    "                #     )\n",
    "                strategy_params = {\n",
    "                    \"VolAvgLength\": int(VolAvgParam),\n",
    "                    \"TriggerVolumeMultiplier\": TriggerVolParam,\n",
    "                    \"CurrencyID\": currency,\n",
    "                    \"OnlyTransparent\": transparent,\n",
    "                }\n",
    "                cerebro.addstrategy(VolumeStrategy, **strategy_params)\n",
    "                # no commission\n",
    "                # cerebro.broker.setcommission(commission=0.005) # 0.5% commission\n",
    "                cerebro.broker.setcash(1000000)\n",
    "                cerebro.run()\n",
    "                temp_df = pd.read_pickle(temp_save_path)\n",
    "                # print(temp_df.head())\n",
    "                # add to list of df\n",
    "                df_list.append(deepcopy(temp_df))\n",
    "\n",
    "\n",
    "    # save temp_df by appending to more permanent df\n",
    "    concat_df = pd.concat(df_list)\n",
    "    archive_df = archive_df.append(deepcopy(concat_df), ignore_index=True)\n",
    "    \n",
    "    completed_currencies.append(currency)\n",
    "    with open(results_folder.joinpath(f\"completed_currencies.pkl\"), \"wb\") as f:\n",
    "        pickle.dump(completed_currencies,f)\n",
    "\n",
    "    if len(completed_currencies)%100 == 0:\n",
    "        break\n",
    "\n",
    "# save archive_df\n",
    "archive_df.to_pickle(archive_save_path)\n",
    "# archive_df.to_excel(Path(\"../bt_data_runs/output.xlsx\"), index=False)\n",
    "\n"
   ]
  },
  {
   "cell_type": "code",
   "execution_count": 31,
   "metadata": {},
   "outputs": [
    {
     "data": {
      "application/javascript": "/* Put everything inside the global mpl namespace */\n/* global mpl */\nwindow.mpl = {};\n\nmpl.get_websocket_type = function () {\n    if (typeof WebSocket !== 'undefined') {\n        return WebSocket;\n    } else if (typeof MozWebSocket !== 'undefined') {\n        return MozWebSocket;\n    } else {\n        alert(\n            'Your browser does not have WebSocket support. ' +\n                'Please try Chrome, Safari or Firefox ≥ 6. ' +\n                'Firefox 4 and 5 are also supported but you ' +\n                'have to enable WebSockets in about:config.'\n        );\n    }\n};\n\nmpl.figure = function (figure_id, websocket, ondownload, parent_element) {\n    this.id = figure_id;\n\n    this.ws = websocket;\n\n    this.supports_binary = this.ws.binaryType !== undefined;\n\n    if (!this.supports_binary) {\n        var warnings = document.getElementById('mpl-warnings');\n        if (warnings) {\n            warnings.style.display = 'block';\n            warnings.textContent =\n                'This browser does not support binary websocket messages. ' +\n                'Performance may be slow.';\n        }\n    }\n\n    this.imageObj = new Image();\n\n    this.context = undefined;\n    this.message = undefined;\n    this.canvas = undefined;\n    this.rubberband_canvas = undefined;\n    this.rubberband_context = undefined;\n    this.format_dropdown = undefined;\n\n    this.image_mode = 'full';\n\n    this.root = document.createElement('div');\n    this.root.setAttribute('style', 'display: inline-block');\n    this._root_extra_style(this.root);\n\n    parent_element.appendChild(this.root);\n\n    this._init_header(this);\n    this._init_canvas(this);\n    this._init_toolbar(this);\n\n    var fig = this;\n\n    this.waiting = false;\n\n    this.ws.onopen = function () {\n        fig.send_message('supports_binary', { value: fig.supports_binary });\n        fig.send_message('send_image_mode', {});\n        if (fig.ratio !== 1) {\n            fig.send_message('set_device_pixel_ratio', {\n                device_pixel_ratio: fig.ratio,\n            });\n        }\n        fig.send_message('refresh', {});\n    };\n\n    this.imageObj.onload = function () {\n        if (fig.image_mode === 'full') {\n            // Full images could contain transparency (where diff images\n            // almost always do), so we need to clear the canvas so that\n            // there is no ghosting.\n            fig.context.clearRect(0, 0, fig.canvas.width, fig.canvas.height);\n        }\n        fig.context.drawImage(fig.imageObj, 0, 0);\n    };\n\n    this.imageObj.onunload = function () {\n        fig.ws.close();\n    };\n\n    this.ws.onmessage = this._make_on_message_function(this);\n\n    this.ondownload = ondownload;\n};\n\nmpl.figure.prototype._init_header = function () {\n    var titlebar = document.createElement('div');\n    titlebar.classList =\n        'ui-dialog-titlebar ui-widget-header ui-corner-all ui-helper-clearfix';\n    var titletext = document.createElement('div');\n    titletext.classList = 'ui-dialog-title';\n    titletext.setAttribute(\n        'style',\n        'width: 100%; text-align: center; padding: 3px;'\n    );\n    titlebar.appendChild(titletext);\n    this.root.appendChild(titlebar);\n    this.header = titletext;\n};\n\nmpl.figure.prototype._canvas_extra_style = function (_canvas_div) {};\n\nmpl.figure.prototype._root_extra_style = function (_canvas_div) {};\n\nmpl.figure.prototype._init_canvas = function () {\n    var fig = this;\n\n    var canvas_div = (this.canvas_div = document.createElement('div'));\n    canvas_div.setAttribute(\n        'style',\n        'border: 1px solid #ddd;' +\n            'box-sizing: content-box;' +\n            'clear: both;' +\n            'min-height: 1px;' +\n            'min-width: 1px;' +\n            'outline: 0;' +\n            'overflow: hidden;' +\n            'position: relative;' +\n            'resize: both;'\n    );\n\n    function on_keyboard_event_closure(name) {\n        return function (event) {\n            return fig.key_event(event, name);\n        };\n    }\n\n    canvas_div.addEventListener(\n        'keydown',\n        on_keyboard_event_closure('key_press')\n    );\n    canvas_div.addEventListener(\n        'keyup',\n        on_keyboard_event_closure('key_release')\n    );\n\n    this._canvas_extra_style(canvas_div);\n    this.root.appendChild(canvas_div);\n\n    var canvas = (this.canvas = document.createElement('canvas'));\n    canvas.classList.add('mpl-canvas');\n    canvas.setAttribute('style', 'box-sizing: content-box;');\n\n    this.context = canvas.getContext('2d');\n\n    var backingStore =\n        this.context.backingStorePixelRatio ||\n        this.context.webkitBackingStorePixelRatio ||\n        this.context.mozBackingStorePixelRatio ||\n        this.context.msBackingStorePixelRatio ||\n        this.context.oBackingStorePixelRatio ||\n        this.context.backingStorePixelRatio ||\n        1;\n\n    this.ratio = (window.devicePixelRatio || 1) / backingStore;\n\n    var rubberband_canvas = (this.rubberband_canvas = document.createElement(\n        'canvas'\n    ));\n    rubberband_canvas.setAttribute(\n        'style',\n        'box-sizing: content-box; position: absolute; left: 0; top: 0; z-index: 1;'\n    );\n\n    // Apply a ponyfill if ResizeObserver is not implemented by browser.\n    if (this.ResizeObserver === undefined) {\n        if (window.ResizeObserver !== undefined) {\n            this.ResizeObserver = window.ResizeObserver;\n        } else {\n            var obs = _JSXTOOLS_RESIZE_OBSERVER({});\n            this.ResizeObserver = obs.ResizeObserver;\n        }\n    }\n\n    this.resizeObserverInstance = new this.ResizeObserver(function (entries) {\n        var nentries = entries.length;\n        for (var i = 0; i < nentries; i++) {\n            var entry = entries[i];\n            var width, height;\n            if (entry.contentBoxSize) {\n                if (entry.contentBoxSize instanceof Array) {\n                    // Chrome 84 implements new version of spec.\n                    width = entry.contentBoxSize[0].inlineSize;\n                    height = entry.contentBoxSize[0].blockSize;\n                } else {\n                    // Firefox implements old version of spec.\n                    width = entry.contentBoxSize.inlineSize;\n                    height = entry.contentBoxSize.blockSize;\n                }\n            } else {\n                // Chrome <84 implements even older version of spec.\n                width = entry.contentRect.width;\n                height = entry.contentRect.height;\n            }\n\n            // Keep the size of the canvas and rubber band canvas in sync with\n            // the canvas container.\n            if (entry.devicePixelContentBoxSize) {\n                // Chrome 84 implements new version of spec.\n                canvas.setAttribute(\n                    'width',\n                    entry.devicePixelContentBoxSize[0].inlineSize\n                );\n                canvas.setAttribute(\n                    'height',\n                    entry.devicePixelContentBoxSize[0].blockSize\n                );\n            } else {\n                canvas.setAttribute('width', width * fig.ratio);\n                canvas.setAttribute('height', height * fig.ratio);\n            }\n            canvas.setAttribute(\n                'style',\n                'width: ' + width + 'px; height: ' + height + 'px;'\n            );\n\n            rubberband_canvas.setAttribute('width', width);\n            rubberband_canvas.setAttribute('height', height);\n\n            // And update the size in Python. We ignore the initial 0/0 size\n            // that occurs as the element is placed into the DOM, which should\n            // otherwise not happen due to the minimum size styling.\n            if (fig.ws.readyState == 1 && width != 0 && height != 0) {\n                fig.request_resize(width, height);\n            }\n        }\n    });\n    this.resizeObserverInstance.observe(canvas_div);\n\n    function on_mouse_event_closure(name) {\n        return function (event) {\n            return fig.mouse_event(event, name);\n        };\n    }\n\n    rubberband_canvas.addEventListener(\n        'mousedown',\n        on_mouse_event_closure('button_press')\n    );\n    rubberband_canvas.addEventListener(\n        'mouseup',\n        on_mouse_event_closure('button_release')\n    );\n    rubberband_canvas.addEventListener(\n        'dblclick',\n        on_mouse_event_closure('dblclick')\n    );\n    // Throttle sequential mouse events to 1 every 20ms.\n    rubberband_canvas.addEventListener(\n        'mousemove',\n        on_mouse_event_closure('motion_notify')\n    );\n\n    rubberband_canvas.addEventListener(\n        'mouseenter',\n        on_mouse_event_closure('figure_enter')\n    );\n    rubberband_canvas.addEventListener(\n        'mouseleave',\n        on_mouse_event_closure('figure_leave')\n    );\n\n    canvas_div.addEventListener('wheel', function (event) {\n        if (event.deltaY < 0) {\n            event.step = 1;\n        } else {\n            event.step = -1;\n        }\n        on_mouse_event_closure('scroll')(event);\n    });\n\n    canvas_div.appendChild(canvas);\n    canvas_div.appendChild(rubberband_canvas);\n\n    this.rubberband_context = rubberband_canvas.getContext('2d');\n    this.rubberband_context.strokeStyle = '#000000';\n\n    this._resize_canvas = function (width, height, forward) {\n        if (forward) {\n            canvas_div.style.width = width + 'px';\n            canvas_div.style.height = height + 'px';\n        }\n    };\n\n    // Disable right mouse context menu.\n    this.rubberband_canvas.addEventListener('contextmenu', function (_e) {\n        event.preventDefault();\n        return false;\n    });\n\n    function set_focus() {\n        canvas.focus();\n        canvas_div.focus();\n    }\n\n    window.setTimeout(set_focus, 100);\n};\n\nmpl.figure.prototype._init_toolbar = function () {\n    var fig = this;\n\n    var toolbar = document.createElement('div');\n    toolbar.classList = 'mpl-toolbar';\n    this.root.appendChild(toolbar);\n\n    function on_click_closure(name) {\n        return function (_event) {\n            return fig.toolbar_button_onclick(name);\n        };\n    }\n\n    function on_mouseover_closure(tooltip) {\n        return function (event) {\n            if (!event.currentTarget.disabled) {\n                return fig.toolbar_button_onmouseover(tooltip);\n            }\n        };\n    }\n\n    fig.buttons = {};\n    var buttonGroup = document.createElement('div');\n    buttonGroup.classList = 'mpl-button-group';\n    for (var toolbar_ind in mpl.toolbar_items) {\n        var name = mpl.toolbar_items[toolbar_ind][0];\n        var tooltip = mpl.toolbar_items[toolbar_ind][1];\n        var image = mpl.toolbar_items[toolbar_ind][2];\n        var method_name = mpl.toolbar_items[toolbar_ind][3];\n\n        if (!name) {\n            /* Instead of a spacer, we start a new button group. */\n            if (buttonGroup.hasChildNodes()) {\n                toolbar.appendChild(buttonGroup);\n            }\n            buttonGroup = document.createElement('div');\n            buttonGroup.classList = 'mpl-button-group';\n            continue;\n        }\n\n        var button = (fig.buttons[name] = document.createElement('button'));\n        button.classList = 'mpl-widget';\n        button.setAttribute('role', 'button');\n        button.setAttribute('aria-disabled', 'false');\n        button.addEventListener('click', on_click_closure(method_name));\n        button.addEventListener('mouseover', on_mouseover_closure(tooltip));\n\n        var icon_img = document.createElement('img');\n        icon_img.src = '_images/' + image + '.png';\n        icon_img.srcset = '_images/' + image + '_large.png 2x';\n        icon_img.alt = tooltip;\n        button.appendChild(icon_img);\n\n        buttonGroup.appendChild(button);\n    }\n\n    if (buttonGroup.hasChildNodes()) {\n        toolbar.appendChild(buttonGroup);\n    }\n\n    var fmt_picker = document.createElement('select');\n    fmt_picker.classList = 'mpl-widget';\n    toolbar.appendChild(fmt_picker);\n    this.format_dropdown = fmt_picker;\n\n    for (var ind in mpl.extensions) {\n        var fmt = mpl.extensions[ind];\n        var option = document.createElement('option');\n        option.selected = fmt === mpl.default_extension;\n        option.innerHTML = fmt;\n        fmt_picker.appendChild(option);\n    }\n\n    var status_bar = document.createElement('span');\n    status_bar.classList = 'mpl-message';\n    toolbar.appendChild(status_bar);\n    this.message = status_bar;\n};\n\nmpl.figure.prototype.request_resize = function (x_pixels, y_pixels) {\n    // Request matplotlib to resize the figure. Matplotlib will then trigger a resize in the client,\n    // which will in turn request a refresh of the image.\n    this.send_message('resize', { width: x_pixels, height: y_pixels });\n};\n\nmpl.figure.prototype.send_message = function (type, properties) {\n    properties['type'] = type;\n    properties['figure_id'] = this.id;\n    this.ws.send(JSON.stringify(properties));\n};\n\nmpl.figure.prototype.send_draw_message = function () {\n    if (!this.waiting) {\n        this.waiting = true;\n        this.ws.send(JSON.stringify({ type: 'draw', figure_id: this.id }));\n    }\n};\n\nmpl.figure.prototype.handle_save = function (fig, _msg) {\n    var format_dropdown = fig.format_dropdown;\n    var format = format_dropdown.options[format_dropdown.selectedIndex].value;\n    fig.ondownload(fig, format);\n};\n\nmpl.figure.prototype.handle_resize = function (fig, msg) {\n    var size = msg['size'];\n    if (size[0] !== fig.canvas.width || size[1] !== fig.canvas.height) {\n        fig._resize_canvas(size[0], size[1], msg['forward']);\n        fig.send_message('refresh', {});\n    }\n};\n\nmpl.figure.prototype.handle_rubberband = function (fig, msg) {\n    var x0 = msg['x0'] / fig.ratio;\n    var y0 = (fig.canvas.height - msg['y0']) / fig.ratio;\n    var x1 = msg['x1'] / fig.ratio;\n    var y1 = (fig.canvas.height - msg['y1']) / fig.ratio;\n    x0 = Math.floor(x0) + 0.5;\n    y0 = Math.floor(y0) + 0.5;\n    x1 = Math.floor(x1) + 0.5;\n    y1 = Math.floor(y1) + 0.5;\n    var min_x = Math.min(x0, x1);\n    var min_y = Math.min(y0, y1);\n    var width = Math.abs(x1 - x0);\n    var height = Math.abs(y1 - y0);\n\n    fig.rubberband_context.clearRect(\n        0,\n        0,\n        fig.canvas.width / fig.ratio,\n        fig.canvas.height / fig.ratio\n    );\n\n    fig.rubberband_context.strokeRect(min_x, min_y, width, height);\n};\n\nmpl.figure.prototype.handle_figure_label = function (fig, msg) {\n    // Updates the figure title.\n    fig.header.textContent = msg['label'];\n};\n\nmpl.figure.prototype.handle_cursor = function (fig, msg) {\n    fig.rubberband_canvas.style.cursor = msg['cursor'];\n};\n\nmpl.figure.prototype.handle_message = function (fig, msg) {\n    fig.message.textContent = msg['message'];\n};\n\nmpl.figure.prototype.handle_draw = function (fig, _msg) {\n    // Request the server to send over a new figure.\n    fig.send_draw_message();\n};\n\nmpl.figure.prototype.handle_image_mode = function (fig, msg) {\n    fig.image_mode = msg['mode'];\n};\n\nmpl.figure.prototype.handle_history_buttons = function (fig, msg) {\n    for (var key in msg) {\n        if (!(key in fig.buttons)) {\n            continue;\n        }\n        fig.buttons[key].disabled = !msg[key];\n        fig.buttons[key].setAttribute('aria-disabled', !msg[key]);\n    }\n};\n\nmpl.figure.prototype.handle_navigate_mode = function (fig, msg) {\n    if (msg['mode'] === 'PAN') {\n        fig.buttons['Pan'].classList.add('active');\n        fig.buttons['Zoom'].classList.remove('active');\n    } else if (msg['mode'] === 'ZOOM') {\n        fig.buttons['Pan'].classList.remove('active');\n        fig.buttons['Zoom'].classList.add('active');\n    } else {\n        fig.buttons['Pan'].classList.remove('active');\n        fig.buttons['Zoom'].classList.remove('active');\n    }\n};\n\nmpl.figure.prototype.updated_canvas_event = function () {\n    // Called whenever the canvas gets updated.\n    this.send_message('ack', {});\n};\n\n// A function to construct a web socket function for onmessage handling.\n// Called in the figure constructor.\nmpl.figure.prototype._make_on_message_function = function (fig) {\n    return function socket_on_message(evt) {\n        if (evt.data instanceof Blob) {\n            var img = evt.data;\n            if (img.type !== 'image/png') {\n                /* FIXME: We get \"Resource interpreted as Image but\n                 * transferred with MIME type text/plain:\" errors on\n                 * Chrome.  But how to set the MIME type?  It doesn't seem\n                 * to be part of the websocket stream */\n                img.type = 'image/png';\n            }\n\n            /* Free the memory for the previous frames */\n            if (fig.imageObj.src) {\n                (window.URL || window.webkitURL).revokeObjectURL(\n                    fig.imageObj.src\n                );\n            }\n\n            fig.imageObj.src = (window.URL || window.webkitURL).createObjectURL(\n                img\n            );\n            fig.updated_canvas_event();\n            fig.waiting = false;\n            return;\n        } else if (\n            typeof evt.data === 'string' &&\n            evt.data.slice(0, 21) === 'data:image/png;base64'\n        ) {\n            fig.imageObj.src = evt.data;\n            fig.updated_canvas_event();\n            fig.waiting = false;\n            return;\n        }\n\n        var msg = JSON.parse(evt.data);\n        var msg_type = msg['type'];\n\n        // Call the  \"handle_{type}\" callback, which takes\n        // the figure and JSON message as its only arguments.\n        try {\n            var callback = fig['handle_' + msg_type];\n        } catch (e) {\n            console.log(\n                \"No handler for the '\" + msg_type + \"' message type: \",\n                msg\n            );\n            return;\n        }\n\n        if (callback) {\n            try {\n                // console.log(\"Handling '\" + msg_type + \"' message: \", msg);\n                callback(fig, msg);\n            } catch (e) {\n                console.log(\n                    \"Exception inside the 'handler_\" + msg_type + \"' callback:\",\n                    e,\n                    e.stack,\n                    msg\n                );\n            }\n        }\n    };\n};\n\n// from https://stackoverflow.com/questions/1114465/getting-mouse-location-in-canvas\nmpl.findpos = function (e) {\n    //this section is from http://www.quirksmode.org/js/events_properties.html\n    var targ;\n    if (!e) {\n        e = window.event;\n    }\n    if (e.target) {\n        targ = e.target;\n    } else if (e.srcElement) {\n        targ = e.srcElement;\n    }\n    if (targ.nodeType === 3) {\n        // defeat Safari bug\n        targ = targ.parentNode;\n    }\n\n    // pageX,Y are the mouse positions relative to the document\n    var boundingRect = targ.getBoundingClientRect();\n    var x = e.pageX - (boundingRect.left + document.body.scrollLeft);\n    var y = e.pageY - (boundingRect.top + document.body.scrollTop);\n\n    return { x: x, y: y };\n};\n\n/*\n * return a copy of an object with only non-object keys\n * we need this to avoid circular references\n * https://stackoverflow.com/a/24161582/3208463\n */\nfunction simpleKeys(original) {\n    return Object.keys(original).reduce(function (obj, key) {\n        if (typeof original[key] !== 'object') {\n            obj[key] = original[key];\n        }\n        return obj;\n    }, {});\n}\n\nmpl.figure.prototype.mouse_event = function (event, name) {\n    var canvas_pos = mpl.findpos(event);\n\n    if (name === 'button_press') {\n        this.canvas.focus();\n        this.canvas_div.focus();\n    }\n\n    var x = canvas_pos.x * this.ratio;\n    var y = canvas_pos.y * this.ratio;\n\n    this.send_message(name, {\n        x: x,\n        y: y,\n        button: event.button,\n        step: event.step,\n        guiEvent: simpleKeys(event),\n    });\n\n    /* This prevents the web browser from automatically changing to\n     * the text insertion cursor when the button is pressed.  We want\n     * to control all of the cursor setting manually through the\n     * 'cursor' event from matplotlib */\n    event.preventDefault();\n    return false;\n};\n\nmpl.figure.prototype._key_event_extra = function (_event, _name) {\n    // Handle any extra behaviour associated with a key event\n};\n\nmpl.figure.prototype.key_event = function (event, name) {\n    // Prevent repeat events\n    if (name === 'key_press') {\n        if (event.key === this._key) {\n            return;\n        } else {\n            this._key = event.key;\n        }\n    }\n    if (name === 'key_release') {\n        this._key = null;\n    }\n\n    var value = '';\n    if (event.ctrlKey && event.key !== 'Control') {\n        value += 'ctrl+';\n    }\n    else if (event.altKey && event.key !== 'Alt') {\n        value += 'alt+';\n    }\n    else if (event.shiftKey && event.key !== 'Shift') {\n        value += 'shift+';\n    }\n\n    value += 'k' + event.key;\n\n    this._key_event_extra(event, name);\n\n    this.send_message(name, { key: value, guiEvent: simpleKeys(event) });\n    return false;\n};\n\nmpl.figure.prototype.toolbar_button_onclick = function (name) {\n    if (name === 'download') {\n        this.handle_save(this, null);\n    } else {\n        this.send_message('toolbar_button', { name: name });\n    }\n};\n\nmpl.figure.prototype.toolbar_button_onmouseover = function (tooltip) {\n    this.message.textContent = tooltip;\n};\n\n///////////////// REMAINING CONTENT GENERATED BY embed_js.py /////////////////\n// prettier-ignore\nvar _JSXTOOLS_RESIZE_OBSERVER=function(A){var t,i=new WeakMap,n=new WeakMap,a=new WeakMap,r=new WeakMap,o=new Set;function s(e){if(!(this instanceof s))throw new TypeError(\"Constructor requires 'new' operator\");i.set(this,e)}function h(){throw new TypeError(\"Function is not a constructor\")}function c(e,t,i,n){e=0 in arguments?Number(arguments[0]):0,t=1 in arguments?Number(arguments[1]):0,i=2 in arguments?Number(arguments[2]):0,n=3 in arguments?Number(arguments[3]):0,this.right=(this.x=this.left=e)+(this.width=i),this.bottom=(this.y=this.top=t)+(this.height=n),Object.freeze(this)}function d(){t=requestAnimationFrame(d);var s=new WeakMap,p=new Set;o.forEach((function(t){r.get(t).forEach((function(i){var r=t instanceof window.SVGElement,o=a.get(t),d=r?0:parseFloat(o.paddingTop),f=r?0:parseFloat(o.paddingRight),l=r?0:parseFloat(o.paddingBottom),u=r?0:parseFloat(o.paddingLeft),g=r?0:parseFloat(o.borderTopWidth),m=r?0:parseFloat(o.borderRightWidth),w=r?0:parseFloat(o.borderBottomWidth),b=u+f,F=d+l,v=(r?0:parseFloat(o.borderLeftWidth))+m,W=g+w,y=r?0:t.offsetHeight-W-t.clientHeight,E=r?0:t.offsetWidth-v-t.clientWidth,R=b+v,z=F+W,M=r?t.width:parseFloat(o.width)-R-E,O=r?t.height:parseFloat(o.height)-z-y;if(n.has(t)){var k=n.get(t);if(k[0]===M&&k[1]===O)return}n.set(t,[M,O]);var S=Object.create(h.prototype);S.target=t,S.contentRect=new c(u,d,M,O),s.has(i)||(s.set(i,[]),p.add(i)),s.get(i).push(S)}))})),p.forEach((function(e){i.get(e).call(e,s.get(e),e)}))}return s.prototype.observe=function(i){if(i instanceof window.Element){r.has(i)||(r.set(i,new Set),o.add(i),a.set(i,window.getComputedStyle(i)));var n=r.get(i);n.has(this)||n.add(this),cancelAnimationFrame(t),t=requestAnimationFrame(d)}},s.prototype.unobserve=function(i){if(i instanceof window.Element&&r.has(i)){var n=r.get(i);n.has(this)&&(n.delete(this),n.size||(r.delete(i),o.delete(i))),n.size||r.delete(i),o.size||cancelAnimationFrame(t)}},A.DOMRectReadOnly=c,A.ResizeObserver=s,A.ResizeObserverEntry=h,A}; // eslint-disable-line\nmpl.toolbar_items = [[\"Home\", \"Reset original view\", \"fa fa-home icon-home\", \"home\"], [\"Back\", \"Back to previous view\", \"fa fa-arrow-left icon-arrow-left\", \"back\"], [\"Forward\", \"Forward to next view\", \"fa fa-arrow-right icon-arrow-right\", \"forward\"], [\"\", \"\", \"\", \"\"], [\"Pan\", \"Left button pans, Right button zooms\\nx/y fixes axis, CTRL fixes aspect\", \"fa fa-arrows icon-move\", \"pan\"], [\"Zoom\", \"Zoom to rectangle\\nx/y fixes axis\", \"fa fa-square-o icon-check-empty\", \"zoom\"], [\"\", \"\", \"\", \"\"], [\"Download\", \"Download plot\", \"fa fa-floppy-o icon-save\", \"download\"]];\n\nmpl.extensions = [\"eps\", \"jpeg\", \"pgf\", \"pdf\", \"png\", \"ps\", \"raw\", \"svg\", \"tif\"];\n\nmpl.default_extension = \"png\";/* global mpl */\n\nvar comm_websocket_adapter = function (comm) {\n    // Create a \"websocket\"-like object which calls the given IPython comm\n    // object with the appropriate methods. Currently this is a non binary\n    // socket, so there is still some room for performance tuning.\n    var ws = {};\n\n    ws.binaryType = comm.kernel.ws.binaryType;\n    ws.readyState = comm.kernel.ws.readyState;\n    function updateReadyState(_event) {\n        if (comm.kernel.ws) {\n            ws.readyState = comm.kernel.ws.readyState;\n        } else {\n            ws.readyState = 3; // Closed state.\n        }\n    }\n    comm.kernel.ws.addEventListener('open', updateReadyState);\n    comm.kernel.ws.addEventListener('close', updateReadyState);\n    comm.kernel.ws.addEventListener('error', updateReadyState);\n\n    ws.close = function () {\n        comm.close();\n    };\n    ws.send = function (m) {\n        //console.log('sending', m);\n        comm.send(m);\n    };\n    // Register the callback with on_msg.\n    comm.on_msg(function (msg) {\n        //console.log('receiving', msg['content']['data'], msg);\n        var data = msg['content']['data'];\n        if (data['blob'] !== undefined) {\n            data = {\n                data: new Blob(msg['buffers'], { type: data['blob'] }),\n            };\n        }\n        // Pass the mpl event to the overridden (by mpl) onmessage function.\n        ws.onmessage(data);\n    });\n    return ws;\n};\n\nmpl.mpl_figure_comm = function (comm, msg) {\n    // This is the function which gets called when the mpl process\n    // starts-up an IPython Comm through the \"matplotlib\" channel.\n\n    var id = msg.content.data.id;\n    // Get hold of the div created by the display call when the Comm\n    // socket was opened in Python.\n    var element = document.getElementById(id);\n    var ws_proxy = comm_websocket_adapter(comm);\n\n    function ondownload(figure, _format) {\n        window.open(figure.canvas.toDataURL());\n    }\n\n    var fig = new mpl.figure(id, ws_proxy, ondownload, element);\n\n    // Call onopen now - mpl needs it, as it is assuming we've passed it a real\n    // web socket which is closed, not our websocket->open comm proxy.\n    ws_proxy.onopen();\n\n    fig.parent_element = element;\n    fig.cell_info = mpl.find_output_cell(\"<div id='\" + id + \"'></div>\");\n    if (!fig.cell_info) {\n        console.error('Failed to find cell for figure', id, fig);\n        return;\n    }\n    fig.cell_info[0].output_area.element.on(\n        'cleared',\n        { fig: fig },\n        fig._remove_fig_handler\n    );\n};\n\nmpl.figure.prototype.handle_close = function (fig, msg) {\n    var width = fig.canvas.width / fig.ratio;\n    fig.cell_info[0].output_area.element.off(\n        'cleared',\n        fig._remove_fig_handler\n    );\n    fig.resizeObserverInstance.unobserve(fig.canvas_div);\n\n    // Update the output cell to use the data from the current canvas.\n    fig.push_to_output();\n    var dataURL = fig.canvas.toDataURL();\n    // Re-enable the keyboard manager in IPython - without this line, in FF,\n    // the notebook keyboard shortcuts fail.\n    IPython.keyboard_manager.enable();\n    fig.parent_element.innerHTML =\n        '<img src=\"' + dataURL + '\" width=\"' + width + '\">';\n    fig.close_ws(fig, msg);\n};\n\nmpl.figure.prototype.close_ws = function (fig, msg) {\n    fig.send_message('closing', msg);\n    // fig.ws.close()\n};\n\nmpl.figure.prototype.push_to_output = function (_remove_interactive) {\n    // Turn the data on the canvas into data in the output cell.\n    var width = this.canvas.width / this.ratio;\n    var dataURL = this.canvas.toDataURL();\n    this.cell_info[1]['text/html'] =\n        '<img src=\"' + dataURL + '\" width=\"' + width + '\">';\n};\n\nmpl.figure.prototype.updated_canvas_event = function () {\n    // Tell IPython that the notebook contents must change.\n    IPython.notebook.set_dirty(true);\n    this.send_message('ack', {});\n    var fig = this;\n    // Wait a second, then push the new image to the DOM so\n    // that it is saved nicely (might be nice to debounce this).\n    setTimeout(function () {\n        fig.push_to_output();\n    }, 1000);\n};\n\nmpl.figure.prototype._init_toolbar = function () {\n    var fig = this;\n\n    var toolbar = document.createElement('div');\n    toolbar.classList = 'btn-toolbar';\n    this.root.appendChild(toolbar);\n\n    function on_click_closure(name) {\n        return function (_event) {\n            return fig.toolbar_button_onclick(name);\n        };\n    }\n\n    function on_mouseover_closure(tooltip) {\n        return function (event) {\n            if (!event.currentTarget.disabled) {\n                return fig.toolbar_button_onmouseover(tooltip);\n            }\n        };\n    }\n\n    fig.buttons = {};\n    var buttonGroup = document.createElement('div');\n    buttonGroup.classList = 'btn-group';\n    var button;\n    for (var toolbar_ind in mpl.toolbar_items) {\n        var name = mpl.toolbar_items[toolbar_ind][0];\n        var tooltip = mpl.toolbar_items[toolbar_ind][1];\n        var image = mpl.toolbar_items[toolbar_ind][2];\n        var method_name = mpl.toolbar_items[toolbar_ind][3];\n\n        if (!name) {\n            /* Instead of a spacer, we start a new button group. */\n            if (buttonGroup.hasChildNodes()) {\n                toolbar.appendChild(buttonGroup);\n            }\n            buttonGroup = document.createElement('div');\n            buttonGroup.classList = 'btn-group';\n            continue;\n        }\n\n        button = fig.buttons[name] = document.createElement('button');\n        button.classList = 'btn btn-default';\n        button.href = '#';\n        button.title = name;\n        button.innerHTML = '<i class=\"fa ' + image + ' fa-lg\"></i>';\n        button.addEventListener('click', on_click_closure(method_name));\n        button.addEventListener('mouseover', on_mouseover_closure(tooltip));\n        buttonGroup.appendChild(button);\n    }\n\n    if (buttonGroup.hasChildNodes()) {\n        toolbar.appendChild(buttonGroup);\n    }\n\n    // Add the status bar.\n    var status_bar = document.createElement('span');\n    status_bar.classList = 'mpl-message pull-right';\n    toolbar.appendChild(status_bar);\n    this.message = status_bar;\n\n    // Add the close button to the window.\n    var buttongrp = document.createElement('div');\n    buttongrp.classList = 'btn-group inline pull-right';\n    button = document.createElement('button');\n    button.classList = 'btn btn-mini btn-primary';\n    button.href = '#';\n    button.title = 'Stop Interaction';\n    button.innerHTML = '<i class=\"fa fa-power-off icon-remove icon-large\"></i>';\n    button.addEventListener('click', function (_evt) {\n        fig.handle_close(fig, {});\n    });\n    button.addEventListener(\n        'mouseover',\n        on_mouseover_closure('Stop Interaction')\n    );\n    buttongrp.appendChild(button);\n    var titlebar = this.root.querySelector('.ui-dialog-titlebar');\n    titlebar.insertBefore(buttongrp, titlebar.firstChild);\n};\n\nmpl.figure.prototype._remove_fig_handler = function (event) {\n    var fig = event.data.fig;\n    if (event.target !== this) {\n        // Ignore bubbled events from children.\n        return;\n    }\n    fig.close_ws(fig, {});\n};\n\nmpl.figure.prototype._root_extra_style = function (el) {\n    el.style.boxSizing = 'content-box'; // override notebook setting of border-box.\n};\n\nmpl.figure.prototype._canvas_extra_style = function (el) {\n    // this is important to make the div 'focusable\n    el.setAttribute('tabindex', 0);\n    // reach out to IPython and tell the keyboard manager to turn it's self\n    // off when our div gets focus\n\n    // location in version 3\n    if (IPython.notebook.keyboard_manager) {\n        IPython.notebook.keyboard_manager.register_events(el);\n    } else {\n        // location in version 2\n        IPython.keyboard_manager.register_events(el);\n    }\n};\n\nmpl.figure.prototype._key_event_extra = function (event, _name) {\n    // Check for shift+enter\n    if (event.shiftKey && event.which === 13) {\n        this.canvas_div.blur();\n        // select the cell after this one\n        var index = IPython.notebook.find_cell_index(this.cell_info[0]);\n        IPython.notebook.select(index + 1);\n    }\n};\n\nmpl.figure.prototype.handle_save = function (fig, _msg) {\n    fig.ondownload(fig, null);\n};\n\nmpl.find_output_cell = function (html_output) {\n    // Return the cell and output element which can be found *uniquely* in the notebook.\n    // Note - this is a bit hacky, but it is done because the \"notebook_saving.Notebook\"\n    // IPython event is triggered only after the cells have been serialised, which for\n    // our purposes (turning an active figure into a static one), is too late.\n    var cells = IPython.notebook.get_cells();\n    var ncells = cells.length;\n    for (var i = 0; i < ncells; i++) {\n        var cell = cells[i];\n        if (cell.cell_type === 'code') {\n            for (var j = 0; j < cell.output_area.outputs.length; j++) {\n                var data = cell.output_area.outputs[j];\n                if (data.data) {\n                    // IPython >= 3 moved mimebundle to data attribute of output\n                    data = data.data;\n                }\n                if (data['text/html'] === html_output) {\n                    return [cell, data, j];\n                }\n            }\n        }\n    }\n};\n\n// Register the function which deals with the matplotlib target/channel.\n// The kernel may be null if the page has been refreshed.\nif (IPython.notebook.kernel !== null) {\n    IPython.notebook.kernel.comm_manager.register_target(\n        'matplotlib',\n        mpl.mpl_figure_comm\n    );\n}\n",
      "text/plain": [
       "<IPython.core.display.Javascript object>"
      ]
     },
     "metadata": {},
     "output_type": "display_data"
    },
    {
     "data": {
      "text/html": [
       "<div id='66308d85-4137-4c6e-b498-86bc41736f8b'></div>"
      ],
      "text/plain": [
       "<IPython.core.display.HTML object>"
      ]
     },
     "metadata": {},
     "output_type": "display_data"
    },
    {
     "data": {
      "text/plain": [
       "[[<Figure size 2000x1000 with 5 Axes>]]"
      ]
     },
     "execution_count": 31,
     "metadata": {},
     "output_type": "execute_result"
    }
   ],
   "source": [
    "def saveplots(cerebro, numfigs=1, iplot=True, start=None, end=None,\n",
    "             width=16, height=9, dpi=300, tight=True, use=None, file_path = '', **kwargs):\n",
    "\n",
    "        from backtrader import plot\n",
    "        if cerebro.p.oldsync:\n",
    "            plotter = plot.Plot_OldSync(**kwargs)\n",
    "        else:\n",
    "            plotter = plot.Plot(**kwargs)\n",
    "\n",
    "        figs = []\n",
    "        for stratlist in cerebro.runstrats:\n",
    "            for si, strat in enumerate(stratlist):\n",
    "                rfig = plotter.plot(strat, figid=si * 100,\n",
    "                                    numfigs=numfigs, iplot=iplot,\n",
    "                                    start=start, end=end, use=use)\n",
    "                figs.append(rfig)\n",
    "\n",
    "        for fig in figs:\n",
    "            for f in fig:\n",
    "                f.savefig(file_path, bbox_inches='tight')\n",
    "        return figs\n",
    "\n",
    "saveplots(cerebro, file_path = 'results/savefig.png') #run it"
   ]
  },
  {
   "cell_type": "code",
   "execution_count": null,
   "metadata": {},
   "outputs": [],
   "source": []
  },
  {
   "cell_type": "code",
   "execution_count": 11,
   "metadata": {},
   "outputs": [
    {
     "name": "stdout",
     "output_type": "stream",
     "text": [
      "   timestamp      open      high       low     close       volume  \\\n",
      "0 2019-04-26  0.010115  0.010448  0.004777  0.005409  40593812.79   \n",
      "1 2019-04-27  0.005397  0.005834  0.005109  0.005199   9347128.31   \n",
      "2 2019-04-28  0.005192  0.005223  0.004319  0.004416   7700769.87   \n",
      "3 2019-04-29  0.004374  0.004498  0.003424  0.003473   7180093.28   \n",
      "4 2019-04-30  0.003462  0.005160  0.003462  0.004492  23813589.58   \n",
      "\n",
      "   transparent_open  transparent_high  transparent_low  transparent_close  \\\n",
      "0          0.010115          0.010448         0.004777           0.005409   \n",
      "1          0.005397          0.005834         0.005109           0.005199   \n",
      "2          0.005192          0.005223         0.004319           0.004416   \n",
      "3          0.004374          0.004498         0.003424           0.003473   \n",
      "4          0.003462          0.005160         0.003462           0.004492   \n",
      "\n",
      "   transparent_volume  volume_transparency.A  volume_transparency.C  \\\n",
      "0         40593812.79             40593812.0                    0.0   \n",
      "1          9347128.31              9347128.0                    0.0   \n",
      "2          7700769.87              7700769.0                    0.0   \n",
      "3          7180093.28              7180093.0                    0.0   \n",
      "4         23813589.58             23813589.0                    0.0   \n",
      "\n",
      "   volume_transparency.?  volume_transparency.D  volume_transparency.B  \n",
      "0                    0.0                    0.0                    0.0  \n",
      "1                    0.0                    0.0                    0.0  \n",
      "2                    0.0                    0.0                    0.0  \n",
      "3                    0.0                    0.0                    0.0  \n",
      "4                    0.0                    0.0                    0.0  \n"
     ]
    }
   ],
   "source": [
    "import datetime\n",
    "temp_df = pd.read_pickle(Path(\"../downloaded_data/nomics/candles/MATIC.pkl\").resolve())\n",
    "\n",
    "print(temp_df.head())"
   ]
  },
  {
   "cell_type": "code",
   "execution_count": 4,
   "metadata": {},
   "outputs": [
    {
     "data": {
      "text/html": [
       "<div>\n",
       "<style scoped>\n",
       "    .dataframe tbody tr th:only-of-type {\n",
       "        vertical-align: middle;\n",
       "    }\n",
       "\n",
       "    .dataframe tbody tr th {\n",
       "        vertical-align: top;\n",
       "    }\n",
       "\n",
       "    .dataframe thead th {\n",
       "        text-align: right;\n",
       "    }\n",
       "</style>\n",
       "<table border=\"1\" class=\"dataframe\">\n",
       "  <thead>\n",
       "    <tr style=\"text-align: right;\">\n",
       "      <th></th>\n",
       "      <th>buy_date</th>\n",
       "      <th>sell_date</th>\n",
       "      <th>buy_price</th>\n",
       "      <th>sale_price</th>\n",
       "      <th>currency_id</th>\n",
       "      <th>run_name</th>\n",
       "      <th>status</th>\n",
       "    </tr>\n",
       "  </thead>\n",
       "  <tbody>\n",
       "  </tbody>\n",
       "</table>\n",
       "</div>"
      ],
      "text/plain": [
       "Empty DataFrame\n",
       "Columns: [buy_date, sell_date, buy_price, sale_price, currency_id, run_name, status]\n",
       "Index: []"
      ]
     },
     "execution_count": 4,
     "metadata": {},
     "output_type": "execute_result"
    }
   ],
   "source": []
  },
  {
   "cell_type": "code",
   "execution_count": 4,
   "metadata": {},
   "outputs": [
    {
     "name": "stdout",
     "output_type": "stream",
     "text": [
      "C:\\Users\\Gamer\\PythonProjects\\crypto-vol-scanner\\bt_data_runs\n",
      "C:\\Users\\Gamer\\PythonProjects\\crypto-vol-scanner\\bt_data_runs\\_temp_df.pkl\n"
     ]
    }
   ],
   "source": []
  },
  {
   "cell_type": "code",
   "execution_count": 8,
   "metadata": {},
   "outputs": [
    {
     "name": "stdout",
     "output_type": "stream",
     "text": [
      "    timestamp          open          high           low         close  \\\n",
      "0  2021-10-13  6.367930e-13  8.441230e-12  6.367930e-13  6.788568e-12   \n",
      "1  2021-10-14  6.878518e-12  3.074635e-11  6.878518e-12  2.945999e-11   \n",
      "2  2021-10-15  2.920287e-11  2.979936e-11  1.141983e-11  1.197093e-11   \n",
      "3  2021-10-16  1.196746e-11  2.445129e-11  1.167031e-11  1.362400e-11   \n",
      "4  2021-10-17  1.377348e-11  1.383726e-11  8.628017e-12  8.628017e-12   \n",
      "5  2021-10-18  8.772985e-12  2.383518e-11  8.265677e-12  1.771344e-11   \n",
      "6  2021-10-19  1.771231e-11  4.417751e-11  1.502659e-11  3.730057e-11   \n",
      "7  2021-10-20  3.635111e-11  4.690438e-11  3.295748e-11  3.673870e-11   \n",
      "8  2021-10-21  3.630924e-11  5.074858e-11  2.611744e-11  5.074858e-11   \n",
      "9  2021-10-22  5.088413e-11  7.512333e-11  4.817824e-11  7.070740e-11   \n",
      "10 2021-10-23  7.008855e-11  1.488976e-10  5.894845e-11  9.840697e-11   \n",
      "11 2021-10-24  9.892187e-11  4.468625e-10  9.171280e-11  3.900700e-10   \n",
      "12 2021-10-25  3.907073e-10  4.125335e-10  2.453118e-10  2.819375e-10   \n",
      "13 2021-10-26  2.827085e-10  2.830072e-10  1.677648e-10  2.064709e-10   \n",
      "14 2021-10-27  2.060050e-10  2.176576e-10  1.117493e-10  1.117493e-10   \n",
      "15 2021-10-28  1.088963e-10  2.368637e-10  1.088963e-10  2.332019e-10   \n",
      "16 2021-10-29  2.335972e-10  2.730765e-10  2.276399e-10  2.393496e-10   \n",
      "17 2021-10-30  2.374724e-10  2.466877e-10  1.380033e-10  1.638669e-10   \n",
      "18 2021-10-31  1.646404e-10  1.717037e-10  1.593402e-10  1.679264e-10   \n",
      "19 2021-11-01  1.676474e-10  2.032901e-10  1.641440e-10  1.818769e-10   \n",
      "20 2021-11-02  1.910213e-10  2.133627e-10  1.733002e-10  1.733002e-10   \n",
      "21 2021-11-03  1.705235e-10  1.740614e-10  3.753033e-11  3.753033e-11   \n",
      "22 2021-11-04  3.862707e-11  7.769294e-11  2.641144e-11  7.215406e-11   \n",
      "23 2021-11-05  7.240695e-11  8.400143e-11  6.994927e-11  7.941250e-11   \n",
      "24 2021-11-06  8.221509e-11  8.804804e-11  6.865408e-11  8.445962e-11   \n",
      "25 2021-11-07  8.480353e-11  8.656277e-11  7.472502e-11  7.510362e-11   \n",
      "26 2021-11-08  7.470939e-11  7.781849e-11  6.235273e-11  6.235273e-11   \n",
      "27 2021-11-09  6.230838e-11  6.346846e-11  5.756538e-11  5.968889e-11   \n",
      "28 2021-11-10  5.929236e-11  5.929236e-11  3.515920e-11  4.004223e-11   \n",
      "29 2021-11-11  3.974539e-11  4.052407e-11  3.471032e-11  3.509468e-11   \n",
      "30 2021-11-12  3.481123e-11  3.513234e-11  3.053221e-11  3.158883e-11   \n",
      "31 2021-11-13  3.081288e-11  3.377109e-11  2.964015e-11  3.327634e-11   \n",
      "32 2021-11-14  3.306378e-11  5.594551e-11  2.774549e-11  4.936515e-11   \n",
      "33 2021-11-15  4.954931e-11  4.954931e-11  4.648456e-11  4.711400e-11   \n",
      "34 2021-11-16  4.685429e-11  4.685429e-11  3.689363e-11  3.697269e-11   \n",
      "35 2021-11-17  3.674277e-11  3.993001e-11  3.674277e-11  3.942726e-11   \n",
      "36 2021-11-18  3.949877e-11  3.949877e-11  3.264581e-11  3.413698e-11   \n",
      "37 2021-11-19  3.428077e-11  3.910595e-11  2.618651e-11  2.618651e-11   \n",
      "38 2021-11-20  2.652947e-11  3.132701e-11  2.652947e-11  2.847227e-11   \n",
      "39 2021-11-21  2.856451e-11  2.856451e-11  2.006812e-11  2.058262e-11   \n",
      "40 2021-11-22  2.123375e-11  2.123375e-11  1.820949e-11  1.829998e-11   \n",
      "41 2021-11-23  1.860116e-11  2.024328e-11  1.860116e-11  2.024328e-11   \n",
      "42 2021-11-24  2.031135e-11  2.050206e-11  1.999799e-11  2.050206e-11   \n",
      "43 2021-11-25  2.064489e-11  2.187568e-11  2.064489e-11  2.082562e-11   \n",
      "44 2021-11-26  2.008162e-11  2.008162e-11  1.715836e-11  1.803795e-11   \n",
      "45 2021-11-29  1.923631e-11  2.002684e-11  1.923631e-11  2.002684e-11   \n",
      "46 2021-11-30  2.025295e-11  2.112861e-11  1.280179e-11  1.280179e-11   \n",
      "47 2021-12-01  1.119473e-11  1.465058e-11  1.026593e-11  1.308711e-11   \n",
      "48 2021-12-02  1.313032e-11  1.313032e-11  1.204030e-11  1.204030e-11   \n",
      "49 2021-12-04  1.121102e-11  1.121102e-11  1.051517e-11  1.051517e-11   \n",
      "50 2021-12-05  1.004606e-11  1.012412e-11  9.758810e-12  9.758810e-12   \n",
      "\n",
      "        volume  transparent_open  transparent_high  transparent_low  \\\n",
      "0    237415.90      6.367930e-13      8.441230e-12     6.367930e-13   \n",
      "1    474918.44      6.878518e-12      3.074635e-11     6.878518e-12   \n",
      "2     69989.63      2.920287e-11      2.979936e-11     1.141983e-11   \n",
      "3     98629.86      1.196746e-11      2.445129e-11     1.167031e-11   \n",
      "4     35671.04      1.377348e-11      1.383726e-11     8.628017e-12   \n",
      "5    140269.77      8.772985e-12      2.383518e-11     8.265677e-12   \n",
      "6    359168.81      1.771231e-11      4.417751e-11     1.502659e-11   \n",
      "7    162345.69      3.635111e-11      4.690438e-11     3.295748e-11   \n",
      "8    199457.10      3.630924e-11      5.074858e-11     2.611744e-11   \n",
      "9    198064.36      5.088413e-11      7.512333e-11     4.817824e-11   \n",
      "10   582034.75      7.008855e-11      1.488976e-10     5.894845e-11   \n",
      "11  2435518.47      9.892187e-11      4.468625e-10     9.171280e-11   \n",
      "12   639715.56      3.907073e-10      4.125335e-10     2.453118e-10   \n",
      "13   406974.65      2.827085e-10      2.830072e-10     1.677648e-10   \n",
      "14   221431.48      2.060050e-10      2.176576e-10     1.117493e-10   \n",
      "15   402664.04      1.088963e-10      2.368637e-10     1.088963e-10   \n",
      "16   224045.27      2.335972e-10      2.730765e-10     2.276399e-10   \n",
      "17   285018.21      2.374724e-10      2.466877e-10     1.380033e-10   \n",
      "18    74128.64      1.646404e-10      1.717037e-10     1.593402e-10   \n",
      "19   117185.92      1.676474e-10      2.032901e-10     1.641440e-10   \n",
      "20   120789.17      1.910213e-10      2.133627e-10     1.733002e-10   \n",
      "21   179285.08      1.705235e-10      1.740614e-10     3.753033e-11   \n",
      "22   899904.80      3.862707e-11      7.769294e-11     2.641144e-11   \n",
      "23   137027.76      7.240695e-11      8.400143e-11     6.994927e-11   \n",
      "24   129399.90      8.221509e-11      8.804804e-11     6.865408e-11   \n",
      "25    34217.76      8.480353e-11      8.656277e-11     7.472502e-11   \n",
      "26    38761.44      7.470939e-11      7.781849e-11     6.235273e-11   \n",
      "27    40992.52      6.230838e-11      6.346846e-11     5.756538e-11   \n",
      "28    99043.46      5.929236e-11      5.929236e-11     3.515920e-11   \n",
      "29    37881.19      3.974539e-11      4.052407e-11     3.471032e-11   \n",
      "30    34262.34      3.481123e-11      3.513234e-11     3.053221e-11   \n",
      "31    49234.02      3.081288e-11      3.377109e-11     2.964015e-11   \n",
      "32   149079.39      3.306378e-11      5.594551e-11     2.774549e-11   \n",
      "33    11807.03      4.954931e-11      4.954931e-11     4.648456e-11   \n",
      "34    20913.20      4.685429e-11      4.685429e-11     3.689363e-11   \n",
      "35    18383.69      3.674277e-11      3.993001e-11     3.674277e-11   \n",
      "36    32455.17      3.949877e-11      3.949877e-11     3.264581e-11   \n",
      "37    53075.84      3.428077e-11      3.910595e-11     2.618651e-11   \n",
      "38    43467.41      2.652947e-11      3.132701e-11     2.652947e-11   \n",
      "39    35476.37      2.856451e-11      2.856451e-11     2.006812e-11   \n",
      "40    16890.17      2.123375e-11      2.123375e-11     1.820949e-11   \n",
      "41     4308.10      1.860116e-11      2.024328e-11     1.860116e-11   \n",
      "42     2397.00      2.031135e-11      2.050206e-11     1.999799e-11   \n",
      "43     7236.01      2.064489e-11      2.187568e-11     2.064489e-11   \n",
      "44    16665.41      2.008162e-11      2.008162e-11     1.715836e-11   \n",
      "45      742.01      1.923631e-11      2.002684e-11     1.923631e-11   \n",
      "46    37989.01      2.025295e-11      2.112861e-11     1.280179e-11   \n",
      "47    40570.19      1.119473e-11      1.465058e-11     1.026593e-11   \n",
      "48     4364.28      1.313032e-11      1.313032e-11     1.204030e-11   \n",
      "49     4757.16      1.121102e-11      1.121102e-11     1.051517e-11   \n",
      "50     2618.90      1.004606e-11      1.012412e-11     9.758810e-12   \n",
      "\n",
      "    transparent_close  transparent_volume  volume_transparency.A  \n",
      "0        6.788568e-12           237415.90               237415.0  \n",
      "1        2.945999e-11           474918.44               474918.0  \n",
      "2        1.197093e-11            69989.63                69989.0  \n",
      "3        1.362400e-11            98629.86                98629.0  \n",
      "4        8.628017e-12            35671.04                35671.0  \n",
      "5        1.771344e-11           140269.77               140269.0  \n",
      "6        3.730057e-11           359168.81               359168.0  \n",
      "7        3.673870e-11           162345.69               162345.0  \n",
      "8        5.074858e-11           199457.10               199457.0  \n",
      "9        7.070740e-11           198064.36               198064.0  \n",
      "10       9.840697e-11           582034.75               582034.0  \n",
      "11       3.900700e-10          2435518.47              2435518.0  \n",
      "12       2.819375e-10           639715.56               639715.0  \n",
      "13       2.064709e-10           406974.65               406974.0  \n",
      "14       1.117493e-10           221431.48               221431.0  \n",
      "15       2.332019e-10           402664.04               402664.0  \n",
      "16       2.393496e-10           224045.27               224045.0  \n",
      "17       1.638669e-10           285018.21               285018.0  \n",
      "18       1.679264e-10            74128.64                74128.0  \n",
      "19       1.818769e-10           117185.92               117185.0  \n",
      "20       1.733002e-10           120789.17               120789.0  \n",
      "21       3.753033e-11           179285.08               179285.0  \n",
      "22       7.215406e-11           899904.80               899904.0  \n",
      "23       7.941250e-11           137027.76               137027.0  \n",
      "24       8.445962e-11           129399.90               129399.0  \n",
      "25       7.510362e-11            34217.76                34217.0  \n",
      "26       6.235273e-11            38761.44                38761.0  \n",
      "27       5.968889e-11            40992.52                40992.0  \n",
      "28       4.004223e-11            99043.46                99043.0  \n",
      "29       3.509468e-11            37881.19                37881.0  \n",
      "30       3.158883e-11            34262.34                34262.0  \n",
      "31       3.327634e-11            49234.02                49234.0  \n",
      "32       4.936515e-11           149079.39               149079.0  \n",
      "33       4.711400e-11            11807.03                11807.0  \n",
      "34       3.697269e-11            20913.20                20913.0  \n",
      "35       3.942726e-11            18383.69                18383.0  \n",
      "36       3.413698e-11            32455.17                32455.0  \n",
      "37       2.618651e-11            53075.84                53075.0  \n",
      "38       2.847227e-11            43467.41                43467.0  \n",
      "39       2.058262e-11            35476.37                35476.0  \n",
      "40       1.829998e-11            16890.17                16890.0  \n",
      "41       2.024328e-11             4308.10                 4308.0  \n",
      "42       2.050206e-11             2397.00                 2397.0  \n",
      "43       2.082562e-11             7236.01                 7236.0  \n",
      "44       1.803795e-11            16665.41                16665.0  \n",
      "45       2.002684e-11              742.01                  742.0  \n",
      "46       1.280179e-11            37989.01                37989.0  \n",
      "47       1.308711e-11            40570.19                40570.0  \n",
      "48       1.204030e-11             4364.28                 4364.0  \n",
      "49       1.051517e-11             4757.16                 4757.0  \n",
      "50       9.758810e-12             2618.90                 2618.0  \n"
     ]
    }
   ],
   "source": [
    "the_df = pd.read_pickle(Path(\"../downloaded_data/nomics/candles/BLAST4.pkl\").resolve())\n",
    "print(the_df)"
   ]
  },
  {
   "cell_type": "code",
   "execution_count": 9,
   "metadata": {},
   "outputs": [
    {
     "data": {
      "text/plain": [
       "51"
      ]
     },
     "execution_count": 9,
     "metadata": {},
     "output_type": "execute_result"
    }
   ],
   "source": [
    "len(the_df)"
   ]
  },
  {
   "cell_type": "code",
   "execution_count": 10,
   "metadata": {},
   "outputs": [],
   "source": [
    "archive_df.to_excel(Path(\"../bt_data_runs/output.xlsx\"), index=False)"
   ]
  },
  {
   "cell_type": "code",
   "execution_count": null,
   "metadata": {},
   "outputs": [],
   "source": []
  }
 ],
 "metadata": {
  "interpreter": {
   "hash": "650bf4e964f2324acfe49d7cc7420bc7245e74e6202fecae8063b11f5e1a23f0"
  },
  "kernelspec": {
   "display_name": "Python 3.9.9 64-bit ('crypto-vol-scanner-Rel0uyg_-py3.9': poetry)",
   "language": "python",
   "name": "python3"
  },
  "language_info": {
   "codemirror_mode": {
    "name": "ipython",
    "version": 3
   },
   "file_extension": ".py",
   "mimetype": "text/x-python",
   "name": "python",
   "nbconvert_exporter": "python",
   "pygments_lexer": "ipython3",
   "version": "3.9.9"
  },
  "orig_nbformat": 4
 },
 "nbformat": 4,
 "nbformat_minor": 2
}
